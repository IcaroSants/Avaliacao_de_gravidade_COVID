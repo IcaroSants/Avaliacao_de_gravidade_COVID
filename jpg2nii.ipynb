{
 "cells": [
  {
   "cell_type": "code",
   "execution_count": 1,
   "id": "d08e4b49",
   "metadata": {},
   "outputs": [],
   "source": [
    "import tensorflow as tf\n",
    "import nibabel as nib\n",
    "import cv2 as cv\n",
    "import numpy as np\n",
    "import os \n",
    "from jpg2nii import jpg2nii"
   ]
  },
  {
   "cell_type": "markdown",
   "id": "cdc773cc",
   "metadata": {},
   "source": [
    "# Objetivo:\n",
    "\n",
    "As imagens estão na pasta \"archive\". Cada paciente possui uma subpasta contendo as fatias referentes aos exame de tomografia. Precisamos concatenar todas em fatias em um único arquivo no formato .nii\n",
    "\n",
    "\n",
    "\n",
    "\n",
    "\n",
    "# 1º parte: Definir o local de destino das imagens \n",
    "\n"
   ]
  },
  {
   "cell_type": "code",
   "execution_count": 2,
   "id": "6e846c4a",
   "metadata": {},
   "outputs": [],
   "source": [
    "diretorio_atual = os.getcwd()    "
   ]
  },
  {
   "cell_type": "code",
   "execution_count": 3,
   "id": "2acc2392",
   "metadata": {},
   "outputs": [
    {
     "data": {
      "text/plain": [
       "'/home/icaro/Faculdade/Avaliacao_de_gravidade_COVID'"
      ]
     },
     "execution_count": 3,
     "metadata": {},
     "output_type": "execute_result"
    }
   ],
   "source": [
    "diretorio_atual"
   ]
  },
  {
   "cell_type": "code",
   "execution_count": 5,
   "id": "d943081c",
   "metadata": {},
   "outputs": [],
   "source": [
    "path_atual_arq = os.path.join(diretorio_atual,'archive')"
   ]
  },
  {
   "cell_type": "code",
   "execution_count": 4,
   "id": "64f49dca",
   "metadata": {},
   "outputs": [],
   "source": [
    "path_arq_final = os.path.join(diretorio_atual,'Dataset')\n"
   ]
  },
  {
   "cell_type": "code",
   "execution_count": 6,
   "id": "c43f4516",
   "metadata": {},
   "outputs": [],
   "source": [
    "org = jpg2nii(path_atual_arq,path_arq_final)"
   ]
  },
  {
   "cell_type": "markdown",
   "id": "1686db80",
   "metadata": {},
   "source": [
    "# 2º parte: ler e concatenar as imagens de cada paciente\n"
   ]
  },
  {
   "cell_type": "code",
   "execution_count": 7,
   "id": "fe2c69dd",
   "metadata": {},
   "outputs": [],
   "source": [
    "lista_pacientes, lista_path_pacientes = org.get_lista_path_pacientes()"
   ]
  },
  {
   "cell_type": "code",
   "execution_count": 8,
   "id": "234559ed",
   "metadata": {},
   "outputs": [
    {
     "data": {
      "text/plain": [
       "True"
      ]
     },
     "execution_count": 8,
     "metadata": {},
     "output_type": "execute_result"
    }
   ],
   "source": [
    "org.set_path_final()"
   ]
  },
  {
   "cell_type": "code",
   "execution_count": 9,
   "id": "3e6f402e",
   "metadata": {},
   "outputs": [],
   "source": [
    "for nome, arq in zip(lista_pacientes, lista_path_pacientes):\n",
    "    data = org.concatImage(arq)\n",
    "    org.save_nii(data,nome)"
   ]
  },
  {
   "cell_type": "code",
   "execution_count": 36,
   "id": "e22bfc78",
   "metadata": {},
   "outputs": [],
   "source": [
    "arq_res = nib.load(os.path.join(path_arq_final,lista_pacientes[0])+'.nii')"
   ]
  },
  {
   "cell_type": "code",
   "execution_count": 40,
   "id": "d25a3e83",
   "metadata": {},
   "outputs": [],
   "source": [
    "s = arq_res.get_fdata()"
   ]
  },
  {
   "cell_type": "code",
   "execution_count": 41,
   "id": "9754d883",
   "metadata": {},
   "outputs": [
    {
     "data": {
      "text/plain": [
       "(395, 512, 512, 1)"
      ]
     },
     "execution_count": 41,
     "metadata": {},
     "output_type": "execute_result"
    }
   ],
   "source": [
    "s.shape"
   ]
  },
  {
   "cell_type": "code",
   "execution_count": 14,
   "id": "7857b04f",
   "metadata": {},
   "outputs": [],
   "source": [
    "d =[]"
   ]
  },
  {
   "cell_type": "code",
   "execution_count": null,
   "id": "6ce334b4",
   "metadata": {},
   "outputs": [],
   "source": [
    "d.append"
   ]
  }
 ],
 "metadata": {
  "kernelspec": {
   "display_name": "Python 3",
   "language": "python",
   "name": "python3"
  },
  "language_info": {
   "codemirror_mode": {
    "name": "ipython",
    "version": 3
   },
   "file_extension": ".py",
   "mimetype": "text/x-python",
   "name": "python",
   "nbconvert_exporter": "python",
   "pygments_lexer": "ipython3",
   "version": "3.8.10"
  }
 },
 "nbformat": 4,
 "nbformat_minor": 5
}
