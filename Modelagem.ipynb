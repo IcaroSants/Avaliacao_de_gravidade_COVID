{
 "cells": [
  {
   "cell_type": "code",
   "execution_count": 1,
   "id": "3ae79e3b",
   "metadata": {},
   "outputs": [],
   "source": [
    "from sklearn.model_selection import train_test_split  \n",
    "import pandas as pd \n",
    "import numpy as np\n",
    "import nibabel as nib\n"
   ]
  },
  {
   "cell_type": "markdown",
   "id": "cd20336b",
   "metadata": {},
   "source": [
    "# Organizando o Dataset"
   ]
  },
  {
   "cell_type": "code",
   "execution_count": 2,
   "id": "acf56054",
   "metadata": {},
   "outputs": [],
   "source": [
    "df = pd.read_csv('metadados_redimensionados')"
   ]
  },
  {
   "cell_type": "code",
   "execution_count": 3,
   "id": "216d6239",
   "metadata": {},
   "outputs": [
    {
     "data": {
      "text/html": [
       "<div>\n",
       "<style scoped>\n",
       "    .dataframe tbody tr th:only-of-type {\n",
       "        vertical-align: middle;\n",
       "    }\n",
       "\n",
       "    .dataframe tbody tr th {\n",
       "        vertical-align: top;\n",
       "    }\n",
       "\n",
       "    .dataframe thead th {\n",
       "        text-align: right;\n",
       "    }\n",
       "</style>\n",
       "<table border=\"1\" class=\"dataframe\">\n",
       "  <thead>\n",
       "    <tr style=\"text-align: right;\">\n",
       "      <th></th>\n",
       "      <th>Unnamed: 0</th>\n",
       "      <th>Hospital</th>\n",
       "      <th>Patient</th>\n",
       "      <th>Age</th>\n",
       "      <th>Gender</th>\n",
       "      <th>SARS-CoV-2 nucleic acids</th>\n",
       "      <th>CT</th>\n",
       "      <th>Morbidity</th>\n",
       "      <th>Mortality</th>\n",
       "      <th>Path</th>\n",
       "      <th>Qt_fatias</th>\n",
       "      <th>Caminho_padronizado</th>\n",
       "      <th>Caminho_Reduzido</th>\n",
       "    </tr>\n",
       "  </thead>\n",
       "  <tbody>\n",
       "    <tr>\n",
       "      <th>0</th>\n",
       "      <td>0</td>\n",
       "      <td>HUST-Union Hospital</td>\n",
       "      <td>Patient 1</td>\n",
       "      <td>81</td>\n",
       "      <td>Male</td>\n",
       "      <td>Positive</td>\n",
       "      <td>Positive</td>\n",
       "      <td>Regula/Mild</td>\n",
       "      <td>Cured</td>\n",
       "      <td>/home/icaro/Faculdade/Avaliacao_de_gravidade_C...</td>\n",
       "      <td>181</td>\n",
       "      <td>/home/icaro/Faculdade/Avaliacao_de_gravidade_C...</td>\n",
       "      <td>/home/icaro/Faculdade/Avaliacao_de_gravidade_C...</td>\n",
       "    </tr>\n",
       "    <tr>\n",
       "      <th>1</th>\n",
       "      <td>1</td>\n",
       "      <td>HUST-Union Hospital</td>\n",
       "      <td>Patient 3</td>\n",
       "      <td>65</td>\n",
       "      <td>Female</td>\n",
       "      <td>Positive</td>\n",
       "      <td>Positive</td>\n",
       "      <td>Regula/Mild</td>\n",
       "      <td>Cured</td>\n",
       "      <td>/home/icaro/Faculdade/Avaliacao_de_gravidade_C...</td>\n",
       "      <td>405</td>\n",
       "      <td>/home/icaro/Faculdade/Avaliacao_de_gravidade_C...</td>\n",
       "      <td>/home/icaro/Faculdade/Avaliacao_de_gravidade_C...</td>\n",
       "    </tr>\n",
       "    <tr>\n",
       "      <th>2</th>\n",
       "      <td>2</td>\n",
       "      <td>HUST-Union Hospital</td>\n",
       "      <td>Patient 11</td>\n",
       "      <td>39</td>\n",
       "      <td>Male</td>\n",
       "      <td>Positive</td>\n",
       "      <td>Positive</td>\n",
       "      <td>Regula/Mild</td>\n",
       "      <td>Cured</td>\n",
       "      <td>/home/icaro/Faculdade/Avaliacao_de_gravidade_C...</td>\n",
       "      <td>308</td>\n",
       "      <td>/home/icaro/Faculdade/Avaliacao_de_gravidade_C...</td>\n",
       "      <td>/home/icaro/Faculdade/Avaliacao_de_gravidade_C...</td>\n",
       "    </tr>\n",
       "    <tr>\n",
       "      <th>3</th>\n",
       "      <td>3</td>\n",
       "      <td>HUST-Union Hospital</td>\n",
       "      <td>Patient 13</td>\n",
       "      <td>67</td>\n",
       "      <td>Female</td>\n",
       "      <td>Positive</td>\n",
       "      <td>Positive</td>\n",
       "      <td>Severe/Critically ill</td>\n",
       "      <td>Cured</td>\n",
       "      <td>/home/icaro/Faculdade/Avaliacao_de_gravidade_C...</td>\n",
       "      <td>419</td>\n",
       "      <td>/home/icaro/Faculdade/Avaliacao_de_gravidade_C...</td>\n",
       "      <td>/home/icaro/Faculdade/Avaliacao_de_gravidade_C...</td>\n",
       "    </tr>\n",
       "    <tr>\n",
       "      <th>4</th>\n",
       "      <td>4</td>\n",
       "      <td>HUST-Union Hospital</td>\n",
       "      <td>Patient 15</td>\n",
       "      <td>53</td>\n",
       "      <td>Male</td>\n",
       "      <td>Positive</td>\n",
       "      <td>Positive</td>\n",
       "      <td>Severe/Critically ill</td>\n",
       "      <td>Cured</td>\n",
       "      <td>/home/icaro/Faculdade/Avaliacao_de_gravidade_C...</td>\n",
       "      <td>419</td>\n",
       "      <td>/home/icaro/Faculdade/Avaliacao_de_gravidade_C...</td>\n",
       "      <td>/home/icaro/Faculdade/Avaliacao_de_gravidade_C...</td>\n",
       "    </tr>\n",
       "    <tr>\n",
       "      <th>...</th>\n",
       "      <td>...</td>\n",
       "      <td>...</td>\n",
       "      <td>...</td>\n",
       "      <td>...</td>\n",
       "      <td>...</td>\n",
       "      <td>...</td>\n",
       "      <td>...</td>\n",
       "      <td>...</td>\n",
       "      <td>...</td>\n",
       "      <td>...</td>\n",
       "      <td>...</td>\n",
       "      <td>...</td>\n",
       "      <td>...</td>\n",
       "    </tr>\n",
       "    <tr>\n",
       "      <th>445</th>\n",
       "      <td>445</td>\n",
       "      <td>HUST-Liyuan Hospital</td>\n",
       "      <td>Patient 883</td>\n",
       "      <td>65</td>\n",
       "      <td>Female</td>\n",
       "      <td>Positive</td>\n",
       "      <td>Positive</td>\n",
       "      <td>Severe/Critically ill</td>\n",
       "      <td>Unknown</td>\n",
       "      <td>/home/icaro/Faculdade/Avaliacao_de_gravidade_C...</td>\n",
       "      <td>249</td>\n",
       "      <td>/home/icaro/Faculdade/Avaliacao_de_gravidade_C...</td>\n",
       "      <td>/home/icaro/Faculdade/Avaliacao_de_gravidade_C...</td>\n",
       "    </tr>\n",
       "    <tr>\n",
       "      <th>446</th>\n",
       "      <td>446</td>\n",
       "      <td>HUST-Liyuan Hospital</td>\n",
       "      <td>Patient 887</td>\n",
       "      <td>61</td>\n",
       "      <td>Male</td>\n",
       "      <td>Positive</td>\n",
       "      <td>Positive</td>\n",
       "      <td>Severe/Critically ill</td>\n",
       "      <td>Unknown</td>\n",
       "      <td>/home/icaro/Faculdade/Avaliacao_de_gravidade_C...</td>\n",
       "      <td>241</td>\n",
       "      <td>/home/icaro/Faculdade/Avaliacao_de_gravidade_C...</td>\n",
       "      <td>/home/icaro/Faculdade/Avaliacao_de_gravidade_C...</td>\n",
       "    </tr>\n",
       "    <tr>\n",
       "      <th>447</th>\n",
       "      <td>447</td>\n",
       "      <td>HUST-Liyuan Hospital</td>\n",
       "      <td>Patient 888</td>\n",
       "      <td>56</td>\n",
       "      <td>Female</td>\n",
       "      <td>Positive</td>\n",
       "      <td>Positive</td>\n",
       "      <td>Severe/Critically ill</td>\n",
       "      <td>Unknown</td>\n",
       "      <td>/home/icaro/Faculdade/Avaliacao_de_gravidade_C...</td>\n",
       "      <td>233</td>\n",
       "      <td>/home/icaro/Faculdade/Avaliacao_de_gravidade_C...</td>\n",
       "      <td>/home/icaro/Faculdade/Avaliacao_de_gravidade_C...</td>\n",
       "    </tr>\n",
       "    <tr>\n",
       "      <th>448</th>\n",
       "      <td>448</td>\n",
       "      <td>HUST-Liyuan Hospital</td>\n",
       "      <td>Patient 894</td>\n",
       "      <td>88</td>\n",
       "      <td>Male</td>\n",
       "      <td>Positive</td>\n",
       "      <td>Positive</td>\n",
       "      <td>Severe/Critically ill</td>\n",
       "      <td>Unknown</td>\n",
       "      <td>/home/icaro/Faculdade/Avaliacao_de_gravidade_C...</td>\n",
       "      <td>274</td>\n",
       "      <td>/home/icaro/Faculdade/Avaliacao_de_gravidade_C...</td>\n",
       "      <td>/home/icaro/Faculdade/Avaliacao_de_gravidade_C...</td>\n",
       "    </tr>\n",
       "    <tr>\n",
       "      <th>449</th>\n",
       "      <td>449</td>\n",
       "      <td>HUST-Liyuan Hospital</td>\n",
       "      <td>Patient 897</td>\n",
       "      <td>67</td>\n",
       "      <td>Female</td>\n",
       "      <td>Positive</td>\n",
       "      <td>Positive</td>\n",
       "      <td>Severe/Critically ill</td>\n",
       "      <td>Unknown</td>\n",
       "      <td>/home/icaro/Faculdade/Avaliacao_de_gravidade_C...</td>\n",
       "      <td>216</td>\n",
       "      <td>/home/icaro/Faculdade/Avaliacao_de_gravidade_C...</td>\n",
       "      <td>/home/icaro/Faculdade/Avaliacao_de_gravidade_C...</td>\n",
       "    </tr>\n",
       "  </tbody>\n",
       "</table>\n",
       "<p>450 rows × 13 columns</p>\n",
       "</div>"
      ],
      "text/plain": [
       "     Unnamed: 0              Hospital      Patient  Age  Gender  \\\n",
       "0             0   HUST-Union Hospital    Patient 1   81    Male   \n",
       "1             1   HUST-Union Hospital    Patient 3   65  Female   \n",
       "2             2   HUST-Union Hospital   Patient 11   39    Male   \n",
       "3             3   HUST-Union Hospital   Patient 13   67  Female   \n",
       "4             4   HUST-Union Hospital   Patient 15   53    Male   \n",
       "..          ...                   ...          ...  ...     ...   \n",
       "445         445  HUST-Liyuan Hospital  Patient 883   65  Female   \n",
       "446         446  HUST-Liyuan Hospital  Patient 887   61    Male   \n",
       "447         447  HUST-Liyuan Hospital  Patient 888   56  Female   \n",
       "448         448  HUST-Liyuan Hospital  Patient 894   88    Male   \n",
       "449         449  HUST-Liyuan Hospital  Patient 897   67  Female   \n",
       "\n",
       "    SARS-CoV-2 nucleic acids        CT              Morbidity Mortality  \\\n",
       "0                   Positive  Positive            Regula/Mild     Cured   \n",
       "1                   Positive  Positive            Regula/Mild     Cured   \n",
       "2                   Positive  Positive            Regula/Mild     Cured   \n",
       "3                   Positive  Positive  Severe/Critically ill     Cured   \n",
       "4                   Positive  Positive  Severe/Critically ill     Cured   \n",
       "..                       ...       ...                    ...       ...   \n",
       "445                 Positive  Positive  Severe/Critically ill   Unknown   \n",
       "446                 Positive  Positive  Severe/Critically ill   Unknown   \n",
       "447                 Positive  Positive  Severe/Critically ill   Unknown   \n",
       "448                 Positive  Positive  Severe/Critically ill   Unknown   \n",
       "449                 Positive  Positive  Severe/Critically ill   Unknown   \n",
       "\n",
       "                                                  Path  Qt_fatias  \\\n",
       "0    /home/icaro/Faculdade/Avaliacao_de_gravidade_C...        181   \n",
       "1    /home/icaro/Faculdade/Avaliacao_de_gravidade_C...        405   \n",
       "2    /home/icaro/Faculdade/Avaliacao_de_gravidade_C...        308   \n",
       "3    /home/icaro/Faculdade/Avaliacao_de_gravidade_C...        419   \n",
       "4    /home/icaro/Faculdade/Avaliacao_de_gravidade_C...        419   \n",
       "..                                                 ...        ...   \n",
       "445  /home/icaro/Faculdade/Avaliacao_de_gravidade_C...        249   \n",
       "446  /home/icaro/Faculdade/Avaliacao_de_gravidade_C...        241   \n",
       "447  /home/icaro/Faculdade/Avaliacao_de_gravidade_C...        233   \n",
       "448  /home/icaro/Faculdade/Avaliacao_de_gravidade_C...        274   \n",
       "449  /home/icaro/Faculdade/Avaliacao_de_gravidade_C...        216   \n",
       "\n",
       "                                   Caminho_padronizado  \\\n",
       "0    /home/icaro/Faculdade/Avaliacao_de_gravidade_C...   \n",
       "1    /home/icaro/Faculdade/Avaliacao_de_gravidade_C...   \n",
       "2    /home/icaro/Faculdade/Avaliacao_de_gravidade_C...   \n",
       "3    /home/icaro/Faculdade/Avaliacao_de_gravidade_C...   \n",
       "4    /home/icaro/Faculdade/Avaliacao_de_gravidade_C...   \n",
       "..                                                 ...   \n",
       "445  /home/icaro/Faculdade/Avaliacao_de_gravidade_C...   \n",
       "446  /home/icaro/Faculdade/Avaliacao_de_gravidade_C...   \n",
       "447  /home/icaro/Faculdade/Avaliacao_de_gravidade_C...   \n",
       "448  /home/icaro/Faculdade/Avaliacao_de_gravidade_C...   \n",
       "449  /home/icaro/Faculdade/Avaliacao_de_gravidade_C...   \n",
       "\n",
       "                                      Caminho_Reduzido  \n",
       "0    /home/icaro/Faculdade/Avaliacao_de_gravidade_C...  \n",
       "1    /home/icaro/Faculdade/Avaliacao_de_gravidade_C...  \n",
       "2    /home/icaro/Faculdade/Avaliacao_de_gravidade_C...  \n",
       "3    /home/icaro/Faculdade/Avaliacao_de_gravidade_C...  \n",
       "4    /home/icaro/Faculdade/Avaliacao_de_gravidade_C...  \n",
       "..                                                 ...  \n",
       "445  /home/icaro/Faculdade/Avaliacao_de_gravidade_C...  \n",
       "446  /home/icaro/Faculdade/Avaliacao_de_gravidade_C...  \n",
       "447  /home/icaro/Faculdade/Avaliacao_de_gravidade_C...  \n",
       "448  /home/icaro/Faculdade/Avaliacao_de_gravidade_C...  \n",
       "449  /home/icaro/Faculdade/Avaliacao_de_gravidade_C...  \n",
       "\n",
       "[450 rows x 13 columns]"
      ]
     },
     "execution_count": 3,
     "metadata": {},
     "output_type": "execute_result"
    }
   ],
   "source": [
    "df"
   ]
  },
  {
   "cell_type": "code",
   "execution_count": 4,
   "id": "68156e35",
   "metadata": {
    "scrolled": true
   },
   "outputs": [
    {
     "data": {
      "text/plain": [
       "Regula/Mild              269\n",
       "Severe/Critically ill    181\n",
       "Name: Morbidity, dtype: int64"
      ]
     },
     "execution_count": 4,
     "metadata": {},
     "output_type": "execute_result"
    }
   ],
   "source": [
    "df['Morbidity'].value_counts()"
   ]
  },
  {
   "cell_type": "markdown",
   "id": "029a7b3b",
   "metadata": {},
   "source": [
    "## Definindo a quantidade de amostras por classe"
   ]
  },
  {
   "cell_type": "code",
   "execution_count": 5,
   "id": "d56dedc2",
   "metadata": {},
   "outputs": [],
   "source": [
    "df_regular_mild = df[df['Morbidity'] == 'Regula/Mild'].iloc[:181]\n",
    "df_severe_critical = df[df['Morbidity'] == 'Severe/Critically ill'].iloc[:181]"
   ]
  },
  {
   "cell_type": "code",
   "execution_count": 6,
   "id": "31fd55c4",
   "metadata": {},
   "outputs": [],
   "source": [
    "df_regular_mild = df_regular_mild[['Morbidity','Caminho_Reduzido']]\n",
    "df_severe_critical = df_severe_critical[['Morbidity','Caminho_Reduzido']]"
   ]
  },
  {
   "cell_type": "code",
   "execution_count": 7,
   "id": "9cf135f4",
   "metadata": {},
   "outputs": [
    {
     "data": {
      "text/html": [
       "<div>\n",
       "<style scoped>\n",
       "    .dataframe tbody tr th:only-of-type {\n",
       "        vertical-align: middle;\n",
       "    }\n",
       "\n",
       "    .dataframe tbody tr th {\n",
       "        vertical-align: top;\n",
       "    }\n",
       "\n",
       "    .dataframe thead th {\n",
       "        text-align: right;\n",
       "    }\n",
       "</style>\n",
       "<table border=\"1\" class=\"dataframe\">\n",
       "  <thead>\n",
       "    <tr style=\"text-align: right;\">\n",
       "      <th></th>\n",
       "      <th>Morbidity</th>\n",
       "      <th>Caminho_Reduzido</th>\n",
       "    </tr>\n",
       "  </thead>\n",
       "  <tbody>\n",
       "    <tr>\n",
       "      <th>0</th>\n",
       "      <td>Regula/Mild</td>\n",
       "      <td>/home/icaro/Faculdade/Avaliacao_de_gravidade_C...</td>\n",
       "    </tr>\n",
       "    <tr>\n",
       "      <th>1</th>\n",
       "      <td>Regula/Mild</td>\n",
       "      <td>/home/icaro/Faculdade/Avaliacao_de_gravidade_C...</td>\n",
       "    </tr>\n",
       "    <tr>\n",
       "      <th>2</th>\n",
       "      <td>Regula/Mild</td>\n",
       "      <td>/home/icaro/Faculdade/Avaliacao_de_gravidade_C...</td>\n",
       "    </tr>\n",
       "    <tr>\n",
       "      <th>5</th>\n",
       "      <td>Regula/Mild</td>\n",
       "      <td>/home/icaro/Faculdade/Avaliacao_de_gravidade_C...</td>\n",
       "    </tr>\n",
       "    <tr>\n",
       "      <th>6</th>\n",
       "      <td>Regula/Mild</td>\n",
       "      <td>/home/icaro/Faculdade/Avaliacao_de_gravidade_C...</td>\n",
       "    </tr>\n",
       "    <tr>\n",
       "      <th>...</th>\n",
       "      <td>...</td>\n",
       "      <td>...</td>\n",
       "    </tr>\n",
       "    <tr>\n",
       "      <th>275</th>\n",
       "      <td>Regula/Mild</td>\n",
       "      <td>/home/icaro/Faculdade/Avaliacao_de_gravidade_C...</td>\n",
       "    </tr>\n",
       "    <tr>\n",
       "      <th>276</th>\n",
       "      <td>Regula/Mild</td>\n",
       "      <td>/home/icaro/Faculdade/Avaliacao_de_gravidade_C...</td>\n",
       "    </tr>\n",
       "    <tr>\n",
       "      <th>277</th>\n",
       "      <td>Regula/Mild</td>\n",
       "      <td>/home/icaro/Faculdade/Avaliacao_de_gravidade_C...</td>\n",
       "    </tr>\n",
       "    <tr>\n",
       "      <th>278</th>\n",
       "      <td>Regula/Mild</td>\n",
       "      <td>/home/icaro/Faculdade/Avaliacao_de_gravidade_C...</td>\n",
       "    </tr>\n",
       "    <tr>\n",
       "      <th>281</th>\n",
       "      <td>Regula/Mild</td>\n",
       "      <td>/home/icaro/Faculdade/Avaliacao_de_gravidade_C...</td>\n",
       "    </tr>\n",
       "  </tbody>\n",
       "</table>\n",
       "<p>181 rows × 2 columns</p>\n",
       "</div>"
      ],
      "text/plain": [
       "       Morbidity                                   Caminho_Reduzido\n",
       "0    Regula/Mild  /home/icaro/Faculdade/Avaliacao_de_gravidade_C...\n",
       "1    Regula/Mild  /home/icaro/Faculdade/Avaliacao_de_gravidade_C...\n",
       "2    Regula/Mild  /home/icaro/Faculdade/Avaliacao_de_gravidade_C...\n",
       "5    Regula/Mild  /home/icaro/Faculdade/Avaliacao_de_gravidade_C...\n",
       "6    Regula/Mild  /home/icaro/Faculdade/Avaliacao_de_gravidade_C...\n",
       "..           ...                                                ...\n",
       "275  Regula/Mild  /home/icaro/Faculdade/Avaliacao_de_gravidade_C...\n",
       "276  Regula/Mild  /home/icaro/Faculdade/Avaliacao_de_gravidade_C...\n",
       "277  Regula/Mild  /home/icaro/Faculdade/Avaliacao_de_gravidade_C...\n",
       "278  Regula/Mild  /home/icaro/Faculdade/Avaliacao_de_gravidade_C...\n",
       "281  Regula/Mild  /home/icaro/Faculdade/Avaliacao_de_gravidade_C...\n",
       "\n",
       "[181 rows x 2 columns]"
      ]
     },
     "execution_count": 7,
     "metadata": {},
     "output_type": "execute_result"
    }
   ],
   "source": [
    "df_regular_mild"
   ]
  },
  {
   "cell_type": "code",
   "execution_count": 8,
   "id": "903ceeed",
   "metadata": {},
   "outputs": [
    {
     "data": {
      "text/html": [
       "<div>\n",
       "<style scoped>\n",
       "    .dataframe tbody tr th:only-of-type {\n",
       "        vertical-align: middle;\n",
       "    }\n",
       "\n",
       "    .dataframe tbody tr th {\n",
       "        vertical-align: top;\n",
       "    }\n",
       "\n",
       "    .dataframe thead th {\n",
       "        text-align: right;\n",
       "    }\n",
       "</style>\n",
       "<table border=\"1\" class=\"dataframe\">\n",
       "  <thead>\n",
       "    <tr style=\"text-align: right;\">\n",
       "      <th></th>\n",
       "      <th>Morbidity</th>\n",
       "      <th>Caminho_Reduzido</th>\n",
       "    </tr>\n",
       "  </thead>\n",
       "  <tbody>\n",
       "    <tr>\n",
       "      <th>3</th>\n",
       "      <td>Severe/Critically ill</td>\n",
       "      <td>/home/icaro/Faculdade/Avaliacao_de_gravidade_C...</td>\n",
       "    </tr>\n",
       "    <tr>\n",
       "      <th>4</th>\n",
       "      <td>Severe/Critically ill</td>\n",
       "      <td>/home/icaro/Faculdade/Avaliacao_de_gravidade_C...</td>\n",
       "    </tr>\n",
       "    <tr>\n",
       "      <th>8</th>\n",
       "      <td>Severe/Critically ill</td>\n",
       "      <td>/home/icaro/Faculdade/Avaliacao_de_gravidade_C...</td>\n",
       "    </tr>\n",
       "    <tr>\n",
       "      <th>9</th>\n",
       "      <td>Severe/Critically ill</td>\n",
       "      <td>/home/icaro/Faculdade/Avaliacao_de_gravidade_C...</td>\n",
       "    </tr>\n",
       "    <tr>\n",
       "      <th>14</th>\n",
       "      <td>Severe/Critically ill</td>\n",
       "      <td>/home/icaro/Faculdade/Avaliacao_de_gravidade_C...</td>\n",
       "    </tr>\n",
       "    <tr>\n",
       "      <th>...</th>\n",
       "      <td>...</td>\n",
       "      <td>...</td>\n",
       "    </tr>\n",
       "    <tr>\n",
       "      <th>445</th>\n",
       "      <td>Severe/Critically ill</td>\n",
       "      <td>/home/icaro/Faculdade/Avaliacao_de_gravidade_C...</td>\n",
       "    </tr>\n",
       "    <tr>\n",
       "      <th>446</th>\n",
       "      <td>Severe/Critically ill</td>\n",
       "      <td>/home/icaro/Faculdade/Avaliacao_de_gravidade_C...</td>\n",
       "    </tr>\n",
       "    <tr>\n",
       "      <th>447</th>\n",
       "      <td>Severe/Critically ill</td>\n",
       "      <td>/home/icaro/Faculdade/Avaliacao_de_gravidade_C...</td>\n",
       "    </tr>\n",
       "    <tr>\n",
       "      <th>448</th>\n",
       "      <td>Severe/Critically ill</td>\n",
       "      <td>/home/icaro/Faculdade/Avaliacao_de_gravidade_C...</td>\n",
       "    </tr>\n",
       "    <tr>\n",
       "      <th>449</th>\n",
       "      <td>Severe/Critically ill</td>\n",
       "      <td>/home/icaro/Faculdade/Avaliacao_de_gravidade_C...</td>\n",
       "    </tr>\n",
       "  </tbody>\n",
       "</table>\n",
       "<p>181 rows × 2 columns</p>\n",
       "</div>"
      ],
      "text/plain": [
       "                 Morbidity                                   Caminho_Reduzido\n",
       "3    Severe/Critically ill  /home/icaro/Faculdade/Avaliacao_de_gravidade_C...\n",
       "4    Severe/Critically ill  /home/icaro/Faculdade/Avaliacao_de_gravidade_C...\n",
       "8    Severe/Critically ill  /home/icaro/Faculdade/Avaliacao_de_gravidade_C...\n",
       "9    Severe/Critically ill  /home/icaro/Faculdade/Avaliacao_de_gravidade_C...\n",
       "14   Severe/Critically ill  /home/icaro/Faculdade/Avaliacao_de_gravidade_C...\n",
       "..                     ...                                                ...\n",
       "445  Severe/Critically ill  /home/icaro/Faculdade/Avaliacao_de_gravidade_C...\n",
       "446  Severe/Critically ill  /home/icaro/Faculdade/Avaliacao_de_gravidade_C...\n",
       "447  Severe/Critically ill  /home/icaro/Faculdade/Avaliacao_de_gravidade_C...\n",
       "448  Severe/Critically ill  /home/icaro/Faculdade/Avaliacao_de_gravidade_C...\n",
       "449  Severe/Critically ill  /home/icaro/Faculdade/Avaliacao_de_gravidade_C...\n",
       "\n",
       "[181 rows x 2 columns]"
      ]
     },
     "execution_count": 8,
     "metadata": {},
     "output_type": "execute_result"
    }
   ],
   "source": [
    "df_severe_critical"
   ]
  },
  {
   "cell_type": "code",
   "execution_count": 9,
   "id": "75154b80",
   "metadata": {},
   "outputs": [],
   "source": [
    "df_amostras = pd.concat([df_regular_mild,df_severe_critical])"
   ]
  },
  {
   "cell_type": "code",
   "execution_count": 10,
   "id": "73dcc6bb",
   "metadata": {},
   "outputs": [],
   "source": [
    "df_amostras = df_amostras.iloc[np.random.permutation(362)]"
   ]
  },
  {
   "cell_type": "code",
   "execution_count": 11,
   "id": "5cbda653",
   "metadata": {},
   "outputs": [],
   "source": [
    "df_amostras.replace({'Regula/Mild':0,'Severe/Critically ill':1},inplace=True)"
   ]
  },
  {
   "cell_type": "code",
   "execution_count": 12,
   "id": "23734c37",
   "metadata": {},
   "outputs": [],
   "source": [
    "path_images = df_amostras['Caminho_Reduzido'].values.tolist()"
   ]
  },
  {
   "cell_type": "markdown",
   "id": "8c1ae7fe",
   "metadata": {},
   "source": [
    "# Dividindo os dados em treino/validação e teste"
   ]
  },
  {
   "cell_type": "code",
   "execution_count": 13,
   "id": "dbcfb6ed",
   "metadata": {},
   "outputs": [],
   "source": [
    "X_train, X_test,y_train, y_test = train_test_split(df_amostras['Caminho_Reduzido'],df_amostras['Morbidity'], test_size=0.2)"
   ]
  },
  {
   "cell_type": "code",
   "execution_count": 14,
   "id": "4470cc0f",
   "metadata": {
    "scrolled": true
   },
   "outputs": [
    {
     "data": {
      "text/plain": [
       "(289,)"
      ]
     },
     "execution_count": 14,
     "metadata": {},
     "output_type": "execute_result"
    }
   ],
   "source": [
    "X_train.shape"
   ]
  },
  {
   "cell_type": "code",
   "execution_count": 15,
   "id": "00faba7f",
   "metadata": {},
   "outputs": [],
   "source": [
    "X = nib.load(X_train.iloc[0]).get_fdata()\n",
    "X = np.reshape(X,(1,150,64,64,1))\n",
    "\n",
    "for path in X_train.iloc[1:]:\n",
    "    data = nib.load(path).get_fdata()\n",
    "    data = np.reshape(data,(1,150,64,64,1))\n",
    "    \n",
    "    X = np.vstack((X,data))"
   ]
  },
  {
   "cell_type": "code",
   "execution_count": 16,
   "id": "7c085027",
   "metadata": {},
   "outputs": [],
   "source": [
    "teste = nib.load(X_test.iloc[0]).get_fdata()\n",
    "teste = np.reshape(teste, (1,150,64,64,1))\n",
    "\n",
    "for path in X_test.iloc[1:]:\n",
    "    dado = nib.load(path).get_fdata()\n",
    "    dado = np.reshape(dado, (1,150,64,64,1))\n",
    "    \n",
    "    teste = np.vstack((teste,dado))"
   ]
  },
  {
   "cell_type": "code",
   "execution_count": 17,
   "id": "475c87de",
   "metadata": {},
   "outputs": [
    {
     "data": {
      "text/plain": [
       "(289, 150, 64, 64, 1)"
      ]
     },
     "execution_count": 17,
     "metadata": {},
     "output_type": "execute_result"
    }
   ],
   "source": [
    "X.shape"
   ]
  },
  {
   "cell_type": "code",
   "execution_count": 18,
   "id": "29f3432f",
   "metadata": {
    "scrolled": true
   },
   "outputs": [
    {
     "data": {
      "text/plain": [
       "(289,)"
      ]
     },
     "execution_count": 18,
     "metadata": {},
     "output_type": "execute_result"
    }
   ],
   "source": [
    "y_train.shape"
   ]
  },
  {
   "cell_type": "markdown",
   "id": "4b962969",
   "metadata": {},
   "source": [
    "# Modelos"
   ]
  },
  {
   "cell_type": "code",
   "execution_count": 19,
   "id": "761ec3b8",
   "metadata": {},
   "outputs": [],
   "source": [
    "import tensorflow as tf\n",
    "from sklearn.metrics import accuracy_score,confusion_matrix,roc_auc_score,f1_score, precision_score, recall_score"
   ]
  },
  {
   "cell_type": "code",
   "execution_count": 20,
   "id": "d234660e",
   "metadata": {},
   "outputs": [],
   "source": [
    "y = tf.keras.utils.to_categorical(y_train,num_classes=2)"
   ]
  },
  {
   "cell_type": "code",
   "execution_count": 37,
   "id": "907183c0",
   "metadata": {},
   "outputs": [],
   "source": [
    "y_teste = tf.keras.utils.to_categorical(y_test,num_classes=2)"
   ]
  },
  {
   "cell_type": "code",
   "execution_count": 22,
   "id": "e7e56e5d",
   "metadata": {},
   "outputs": [
    {
     "data": {
      "text/plain": [
       "(289, 2)"
      ]
     },
     "execution_count": 22,
     "metadata": {},
     "output_type": "execute_result"
    }
   ],
   "source": [
    "y.shape"
   ]
  },
  {
   "cell_type": "markdown",
   "id": "425c2a5d",
   "metadata": {},
   "source": [
    "## ConvLSTM"
   ]
  },
  {
   "cell_type": "code",
   "execution_count": 23,
   "id": "13c76aaf",
   "metadata": {
    "scrolled": true
   },
   "outputs": [
    {
     "name": "stdout",
     "output_type": "stream",
     "text": [
      "Model: \"sequential\"\n",
      "_________________________________________________________________\n",
      "Layer (type)                 Output Shape              Param #   \n",
      "=================================================================\n",
      "conv_lst_m2d (ConvLSTM2D)    (None, 150, 64, 64, 16)   17472     \n",
      "_________________________________________________________________\n",
      "max_pooling3d (MaxPooling3D) (None, 50, 21, 21, 16)    0         \n",
      "_________________________________________________________________\n",
      "flatten (Flatten)            (None, 352800)            0         \n",
      "_________________________________________________________________\n",
      "dense (Dense)                (None, 50)                17640050  \n",
      "_________________________________________________________________\n",
      "dense_1 (Dense)              (None, 25)                1275      \n",
      "_________________________________________________________________\n",
      "dense_2 (Dense)              (None, 2)                 52        \n",
      "=================================================================\n",
      "Total params: 17,658,849\n",
      "Trainable params: 17,658,849\n",
      "Non-trainable params: 0\n",
      "_________________________________________________________________\n"
     ]
    }
   ],
   "source": [
    "model = tf.keras.Sequential()\n",
    "model.add(tf.keras.layers.ConvLSTM2D(filters=16,\n",
    "                                     kernel_size=[4,4],\n",
    "                                     padding = 'same',\n",
    "                                     data_format='channels_last',\n",
    "                                     return_sequences = True,input_shape = (150,64,64,1)))\n",
    "model.add(tf.keras.layers.MaxPooling3D(pool_size = (3,3,3),padding = 'valid', data_format = 'channels_last'))\n",
    "model.add(tf.keras.layers.Flatten())\n",
    "model.add(tf.keras.layers.Dense(50,activation ='relu'))\n",
    "model.add(tf.keras.layers.Dense(25,activation = \"relu\"))\n",
    "model.add(tf.keras.layers.Dense(2,activation = 'softmax'))\n",
    "\n",
    "model.summary()"
   ]
  },
  {
   "cell_type": "code",
   "execution_count": 24,
   "id": "1be4c492",
   "metadata": {},
   "outputs": [],
   "source": [
    "model.compile(loss=tf.keras.losses.CategoricalCrossentropy(),\n",
    "              optimizer = tf.keras.optimizers.Adam(),\n",
    "              metrics = ['accuracy'])"
   ]
  },
  {
   "cell_type": "code",
   "execution_count": 25,
   "id": "7fb77e24",
   "metadata": {
    "scrolled": true
   },
   "outputs": [
    {
     "name": "stdout",
     "output_type": "stream",
     "text": [
      "Epoch 1/10\n",
      "17/17 [==============================] - 519s 30s/step - loss: 3.8816 - accuracy: 0.5577 - val_loss: 0.6830 - val_accuracy: 0.5517\n",
      "Epoch 2/10\n",
      "17/17 [==============================] - 506s 30s/step - loss: 0.7622 - accuracy: 0.6462 - val_loss: 0.6690 - val_accuracy: 0.4138\n",
      "Epoch 3/10\n",
      " 9/17 [==============>...............] - ETA: 4:01 - loss: 0.6655 - accuracy: 0.7431"
     ]
    },
    {
     "ename": "KeyboardInterrupt",
     "evalue": "",
     "output_type": "error",
     "traceback": [
      "\u001b[0;31m---------------------------------------------------------------------------\u001b[0m",
      "\u001b[0;31mKeyboardInterrupt\u001b[0m                         Traceback (most recent call last)",
      "\u001b[0;32m<ipython-input-25-28efe2533133>\u001b[0m in \u001b[0;36m<module>\u001b[0;34m\u001b[0m\n\u001b[1;32m      1\u001b[0m \u001b[0;32mwith\u001b[0m \u001b[0mtf\u001b[0m\u001b[0;34m.\u001b[0m\u001b[0mdevice\u001b[0m\u001b[0;34m(\u001b[0m\u001b[0;34m'CPU'\u001b[0m\u001b[0;34m)\u001b[0m\u001b[0;34m:\u001b[0m\u001b[0;34m\u001b[0m\u001b[0;34m\u001b[0m\u001b[0m\n\u001b[0;32m----> 2\u001b[0;31m     history = model.fit(x=X,y=y,\n\u001b[0m\u001b[1;32m      3\u001b[0m                     \u001b[0mvalidation_split\u001b[0m\u001b[0;34m=\u001b[0m\u001b[0;36m0.1\u001b[0m\u001b[0;34m,\u001b[0m\u001b[0;34m\u001b[0m\u001b[0;34m\u001b[0m\u001b[0m\n\u001b[1;32m      4\u001b[0m                     \u001b[0mepochs\u001b[0m \u001b[0;34m=\u001b[0m \u001b[0;36m10\u001b[0m\u001b[0;34m,\u001b[0m\u001b[0;34m\u001b[0m\u001b[0;34m\u001b[0m\u001b[0m\n\u001b[1;32m      5\u001b[0m                     \u001b[0mbatch_size\u001b[0m \u001b[0;34m=\u001b[0m \u001b[0;36m16\u001b[0m\u001b[0;34m\u001b[0m\u001b[0;34m\u001b[0m\u001b[0m\n",
      "\u001b[0;32m~/.local/lib/python3.8/site-packages/tensorflow/python/keras/engine/training.py\u001b[0m in \u001b[0;36mfit\u001b[0;34m(self, x, y, batch_size, epochs, verbose, callbacks, validation_split, validation_data, shuffle, class_weight, sample_weight, initial_epoch, steps_per_epoch, validation_steps, validation_batch_size, validation_freq, max_queue_size, workers, use_multiprocessing)\u001b[0m\n\u001b[1;32m   1181\u001b[0m                 _r=1):\n\u001b[1;32m   1182\u001b[0m               \u001b[0mcallbacks\u001b[0m\u001b[0;34m.\u001b[0m\u001b[0mon_train_batch_begin\u001b[0m\u001b[0;34m(\u001b[0m\u001b[0mstep\u001b[0m\u001b[0;34m)\u001b[0m\u001b[0;34m\u001b[0m\u001b[0;34m\u001b[0m\u001b[0m\n\u001b[0;32m-> 1183\u001b[0;31m               \u001b[0mtmp_logs\u001b[0m \u001b[0;34m=\u001b[0m \u001b[0mself\u001b[0m\u001b[0;34m.\u001b[0m\u001b[0mtrain_function\u001b[0m\u001b[0;34m(\u001b[0m\u001b[0miterator\u001b[0m\u001b[0;34m)\u001b[0m\u001b[0;34m\u001b[0m\u001b[0;34m\u001b[0m\u001b[0m\n\u001b[0m\u001b[1;32m   1184\u001b[0m               \u001b[0;32mif\u001b[0m \u001b[0mdata_handler\u001b[0m\u001b[0;34m.\u001b[0m\u001b[0mshould_sync\u001b[0m\u001b[0;34m:\u001b[0m\u001b[0;34m\u001b[0m\u001b[0;34m\u001b[0m\u001b[0m\n\u001b[1;32m   1185\u001b[0m                 \u001b[0mcontext\u001b[0m\u001b[0;34m.\u001b[0m\u001b[0masync_wait\u001b[0m\u001b[0;34m(\u001b[0m\u001b[0;34m)\u001b[0m\u001b[0;34m\u001b[0m\u001b[0;34m\u001b[0m\u001b[0m\n",
      "\u001b[0;32m~/.local/lib/python3.8/site-packages/tensorflow/python/eager/def_function.py\u001b[0m in \u001b[0;36m__call__\u001b[0;34m(self, *args, **kwds)\u001b[0m\n\u001b[1;32m    887\u001b[0m \u001b[0;34m\u001b[0m\u001b[0m\n\u001b[1;32m    888\u001b[0m       \u001b[0;32mwith\u001b[0m \u001b[0mOptionalXlaContext\u001b[0m\u001b[0;34m(\u001b[0m\u001b[0mself\u001b[0m\u001b[0;34m.\u001b[0m\u001b[0m_jit_compile\u001b[0m\u001b[0;34m)\u001b[0m\u001b[0;34m:\u001b[0m\u001b[0;34m\u001b[0m\u001b[0;34m\u001b[0m\u001b[0m\n\u001b[0;32m--> 889\u001b[0;31m         \u001b[0mresult\u001b[0m \u001b[0;34m=\u001b[0m \u001b[0mself\u001b[0m\u001b[0;34m.\u001b[0m\u001b[0m_call\u001b[0m\u001b[0;34m(\u001b[0m\u001b[0;34m*\u001b[0m\u001b[0margs\u001b[0m\u001b[0;34m,\u001b[0m \u001b[0;34m**\u001b[0m\u001b[0mkwds\u001b[0m\u001b[0;34m)\u001b[0m\u001b[0;34m\u001b[0m\u001b[0;34m\u001b[0m\u001b[0m\n\u001b[0m\u001b[1;32m    890\u001b[0m \u001b[0;34m\u001b[0m\u001b[0m\n\u001b[1;32m    891\u001b[0m       \u001b[0mnew_tracing_count\u001b[0m \u001b[0;34m=\u001b[0m \u001b[0mself\u001b[0m\u001b[0;34m.\u001b[0m\u001b[0mexperimental_get_tracing_count\u001b[0m\u001b[0;34m(\u001b[0m\u001b[0;34m)\u001b[0m\u001b[0;34m\u001b[0m\u001b[0;34m\u001b[0m\u001b[0m\n",
      "\u001b[0;32m~/.local/lib/python3.8/site-packages/tensorflow/python/eager/def_function.py\u001b[0m in \u001b[0;36m_call\u001b[0;34m(self, *args, **kwds)\u001b[0m\n\u001b[1;32m    915\u001b[0m       \u001b[0;31m# In this case we have created variables on the first call, so we run the\u001b[0m\u001b[0;34m\u001b[0m\u001b[0;34m\u001b[0m\u001b[0;34m\u001b[0m\u001b[0m\n\u001b[1;32m    916\u001b[0m       \u001b[0;31m# defunned version which is guaranteed to never create variables.\u001b[0m\u001b[0;34m\u001b[0m\u001b[0;34m\u001b[0m\u001b[0;34m\u001b[0m\u001b[0m\n\u001b[0;32m--> 917\u001b[0;31m       \u001b[0;32mreturn\u001b[0m \u001b[0mself\u001b[0m\u001b[0;34m.\u001b[0m\u001b[0m_stateless_fn\u001b[0m\u001b[0;34m(\u001b[0m\u001b[0;34m*\u001b[0m\u001b[0margs\u001b[0m\u001b[0;34m,\u001b[0m \u001b[0;34m**\u001b[0m\u001b[0mkwds\u001b[0m\u001b[0;34m)\u001b[0m  \u001b[0;31m# pylint: disable=not-callable\u001b[0m\u001b[0;34m\u001b[0m\u001b[0;34m\u001b[0m\u001b[0m\n\u001b[0m\u001b[1;32m    918\u001b[0m     \u001b[0;32melif\u001b[0m \u001b[0mself\u001b[0m\u001b[0;34m.\u001b[0m\u001b[0m_stateful_fn\u001b[0m \u001b[0;32mis\u001b[0m \u001b[0;32mnot\u001b[0m \u001b[0;32mNone\u001b[0m\u001b[0;34m:\u001b[0m\u001b[0;34m\u001b[0m\u001b[0;34m\u001b[0m\u001b[0m\n\u001b[1;32m    919\u001b[0m       \u001b[0;31m# Release the lock early so that multiple threads can perform the call\u001b[0m\u001b[0;34m\u001b[0m\u001b[0;34m\u001b[0m\u001b[0;34m\u001b[0m\u001b[0m\n",
      "\u001b[0;32m~/.local/lib/python3.8/site-packages/tensorflow/python/eager/function.py\u001b[0m in \u001b[0;36m__call__\u001b[0;34m(self, *args, **kwargs)\u001b[0m\n\u001b[1;32m   3021\u001b[0m       (graph_function,\n\u001b[1;32m   3022\u001b[0m        filtered_flat_args) = self._maybe_define_function(args, kwargs)\n\u001b[0;32m-> 3023\u001b[0;31m     return graph_function._call_flat(\n\u001b[0m\u001b[1;32m   3024\u001b[0m         filtered_flat_args, captured_inputs=graph_function.captured_inputs)  # pylint: disable=protected-access\n\u001b[1;32m   3025\u001b[0m \u001b[0;34m\u001b[0m\u001b[0m\n",
      "\u001b[0;32m~/.local/lib/python3.8/site-packages/tensorflow/python/eager/function.py\u001b[0m in \u001b[0;36m_call_flat\u001b[0;34m(self, args, captured_inputs, cancellation_manager)\u001b[0m\n\u001b[1;32m   1958\u001b[0m         and executing_eagerly):\n\u001b[1;32m   1959\u001b[0m       \u001b[0;31m# No tape is watching; skip to running the function.\u001b[0m\u001b[0;34m\u001b[0m\u001b[0;34m\u001b[0m\u001b[0;34m\u001b[0m\u001b[0m\n\u001b[0;32m-> 1960\u001b[0;31m       return self._build_call_outputs(self._inference_function.call(\n\u001b[0m\u001b[1;32m   1961\u001b[0m           ctx, args, cancellation_manager=cancellation_manager))\n\u001b[1;32m   1962\u001b[0m     forward_backward = self._select_forward_and_backward_functions(\n",
      "\u001b[0;32m~/.local/lib/python3.8/site-packages/tensorflow/python/eager/function.py\u001b[0m in \u001b[0;36mcall\u001b[0;34m(self, ctx, args, cancellation_manager)\u001b[0m\n\u001b[1;32m    589\u001b[0m       \u001b[0;32mwith\u001b[0m \u001b[0m_InterpolateFunctionError\u001b[0m\u001b[0;34m(\u001b[0m\u001b[0mself\u001b[0m\u001b[0;34m)\u001b[0m\u001b[0;34m:\u001b[0m\u001b[0;34m\u001b[0m\u001b[0;34m\u001b[0m\u001b[0m\n\u001b[1;32m    590\u001b[0m         \u001b[0;32mif\u001b[0m \u001b[0mcancellation_manager\u001b[0m \u001b[0;32mis\u001b[0m \u001b[0;32mNone\u001b[0m\u001b[0;34m:\u001b[0m\u001b[0;34m\u001b[0m\u001b[0;34m\u001b[0m\u001b[0m\n\u001b[0;32m--> 591\u001b[0;31m           outputs = execute.execute(\n\u001b[0m\u001b[1;32m    592\u001b[0m               \u001b[0mstr\u001b[0m\u001b[0;34m(\u001b[0m\u001b[0mself\u001b[0m\u001b[0;34m.\u001b[0m\u001b[0msignature\u001b[0m\u001b[0;34m.\u001b[0m\u001b[0mname\u001b[0m\u001b[0;34m)\u001b[0m\u001b[0;34m,\u001b[0m\u001b[0;34m\u001b[0m\u001b[0;34m\u001b[0m\u001b[0m\n\u001b[1;32m    593\u001b[0m               \u001b[0mnum_outputs\u001b[0m\u001b[0;34m=\u001b[0m\u001b[0mself\u001b[0m\u001b[0;34m.\u001b[0m\u001b[0m_num_outputs\u001b[0m\u001b[0;34m,\u001b[0m\u001b[0;34m\u001b[0m\u001b[0;34m\u001b[0m\u001b[0m\n",
      "\u001b[0;32m~/.local/lib/python3.8/site-packages/tensorflow/python/eager/execute.py\u001b[0m in \u001b[0;36mquick_execute\u001b[0;34m(op_name, num_outputs, inputs, attrs, ctx, name)\u001b[0m\n\u001b[1;32m     57\u001b[0m   \u001b[0;32mtry\u001b[0m\u001b[0;34m:\u001b[0m\u001b[0;34m\u001b[0m\u001b[0;34m\u001b[0m\u001b[0m\n\u001b[1;32m     58\u001b[0m     \u001b[0mctx\u001b[0m\u001b[0;34m.\u001b[0m\u001b[0mensure_initialized\u001b[0m\u001b[0;34m(\u001b[0m\u001b[0;34m)\u001b[0m\u001b[0;34m\u001b[0m\u001b[0;34m\u001b[0m\u001b[0m\n\u001b[0;32m---> 59\u001b[0;31m     tensors = pywrap_tfe.TFE_Py_Execute(ctx._handle, device_name, op_name,\n\u001b[0m\u001b[1;32m     60\u001b[0m                                         inputs, attrs, num_outputs)\n\u001b[1;32m     61\u001b[0m   \u001b[0;32mexcept\u001b[0m \u001b[0mcore\u001b[0m\u001b[0;34m.\u001b[0m\u001b[0m_NotOkStatusException\u001b[0m \u001b[0;32mas\u001b[0m \u001b[0me\u001b[0m\u001b[0;34m:\u001b[0m\u001b[0;34m\u001b[0m\u001b[0;34m\u001b[0m\u001b[0m\n",
      "\u001b[0;31mKeyboardInterrupt\u001b[0m: "
     ]
    }
   ],
   "source": [
    "with tf.device('CPU'):\n",
    "    history = model.fit(x=X,y=y,\n",
    "                    validation_split=0.1,\n",
    "                    epochs = 10,\n",
    "                    batch_size = 16\n",
    "                    )"
   ]
  },
  {
   "cell_type": "code",
   "execution_count": 40,
   "id": "905b45d4",
   "metadata": {},
   "outputs": [
    {
     "data": {
      "text/plain": [
       "(73, 150, 64, 64, 1)"
      ]
     },
     "execution_count": 40,
     "metadata": {},
     "output_type": "execute_result"
    }
   ],
   "source": [
    "teste.shape"
   ]
  },
  {
   "cell_type": "code",
   "execution_count": 42,
   "id": "e9e17730",
   "metadata": {},
   "outputs": [
    {
     "data": {
      "text/plain": [
       "(73, 2)"
      ]
     },
     "execution_count": 42,
     "metadata": {},
     "output_type": "execute_result"
    }
   ],
   "source": [
    "y_teste.shape"
   ]
  },
  {
   "cell_type": "code",
   "execution_count": 43,
   "id": "39ab4a5a",
   "metadata": {},
   "outputs": [],
   "source": [
    "with tf.device('CPU'):\n",
    "    resultado = model.predict(teste)"
   ]
  },
  {
   "cell_type": "code",
   "execution_count": 46,
   "id": "a26c5f9d",
   "metadata": {},
   "outputs": [],
   "source": [
    "y_teste = y_teste.argmax(axis = 1)"
   ]
  },
  {
   "cell_type": "code",
   "execution_count": 48,
   "id": "5005046c",
   "metadata": {},
   "outputs": [],
   "source": [
    "resultados = resultado.argmax(axis = 1)"
   ]
  },
  {
   "cell_type": "code",
   "execution_count": 59,
   "id": "9cb28207",
   "metadata": {},
   "outputs": [],
   "source": [
    "acc_score = accuracy_score(y_teste,resultados) * 100\n",
    "pre_score = precision_score(y_teste,resultados) * 100\n",
    "re_score = recall_score(y_teste,resultados) * 100\n",
    "f_score = f1_score(y_teste,resultados) * 100\n",
    "auc_score = roc_auc_score(y_teste,resultados) * 100\n",
    "\n"
   ]
  },
  {
   "cell_type": "code",
   "execution_count": 61,
   "id": "8e36a7a5",
   "metadata": {
    "scrolled": true
   },
   "outputs": [
    {
     "name": "stdout",
     "output_type": "stream",
     "text": [
      "acuracia:61.64%\n",
      "precisao:59.38%\n",
      "revocaçao:55.88%\n",
      "f1:57.58%\n",
      "AUC:61.27%\n"
     ]
    }
   ],
   "source": [
    "print(\"acuracia:{:.2f}%\".format(acc_score))\n",
    "print(\"precisao:{:.2f}%\".format(pre_score))\n",
    "print(\"revocaçao:{:.2f}%\".format(re_score))\n",
    "print(\"f1:{:.2f}%\".format(f_score))\n",
    "print(\"AUC:{:.2f}%\".format(auc_score))"
   ]
  },
  {
   "cell_type": "markdown",
   "id": "c31e2484",
   "metadata": {},
   "source": [
    "### Gerando os Gráficos"
   ]
  },
  {
   "cell_type": "code",
   "execution_count": 46,
   "id": "73b1d586",
   "metadata": {},
   "outputs": [],
   "source": [
    "import matplotlib.pyplot as plt\n",
    "import seaborn as sns"
   ]
  },
  {
   "cell_type": "code",
   "execution_count": 70,
   "id": "f040d8f3",
   "metadata": {},
   "outputs": [],
   "source": [
    "epoca = history.epoch\n",
    "train_loss = history.history['loss']\n",
    "train_acc = history.history['accuracy']\n",
    "val_loss = history.history['val_loss']\n",
    "val_acc = history.history['val_accuracy']"
   ]
  },
  {
   "cell_type": "code",
   "execution_count": 75,
   "id": "ce6ef62c",
   "metadata": {},
   "outputs": [
    {
     "data": {
      "text/plain": [
       "<matplotlib.legend.Legend at 0x7f58a0758f40>"
      ]
     },
     "execution_count": 75,
     "metadata": {},
     "output_type": "execute_result"
    },
    {
     "data": {
      "image/png": "[encoded data removed]",
      "text/plain": [
       "<Figure size 1036.8x518.4 with 2 Axes>"
      ]
     },
     "metadata": {
      "needs_background": "light"
     },
     "output_type": "display_data"
    }
   ],
   "source": [
    "fig = plt.figure(figsize=(14.4,7.2))\n",
    "\n",
    "#grafico da funçao de perda\n",
    "ax = fig.add_subplot(1,2,1)\n",
    "ax.plot(epoca,train_loss,'black',label=\"train_loss\")\n",
    "ax.plot(epoca,val_loss,'red',label='val_loss')\n",
    "ax.set_title('Função de Perda')\n",
    "ax.set_xlabel(\"Epocas\")\n",
    "ax.legend(loc=\"upper right\")\n",
    "\n",
    "#grafico da acuracia\n",
    "ax2 = fig.add_subplot(1,2,2)\n",
    "ax2.plot(epoca,train_acc,'black',label=\"Train_acc\")\n",
    "ax2.plot(epoca,val_acc,'red',label = \"Val_acc\")\n",
    "ax2.set_title(\"Acuracia\")\n",
    "ax2.set_xlabel(\"Epocas\")\n",
    "ax2.legend(loc='lower right')\n",
    "\n"
   ]
  },
  {
   "cell_type": "markdown",
   "id": "91c699aa",
   "metadata": {},
   "source": [
    "### Matriz de confusao"
   ]
  },
  {
   "cell_type": "code",
   "execution_count": 50,
   "id": "2d86d2d2",
   "metadata": {},
   "outputs": [],
   "source": [
    "matriz_confusao = confusion_matrix(y_teste, resultados)"
   ]
  },
  {
   "cell_type": "code",
   "execution_count": 76,
   "id": "b17f7aa1",
   "metadata": {},
   "outputs": [],
   "source": [
    "mat =  pd.DataFrame(matriz_confusao,index=[['Real','Real'],['Regula/Mild','Severe/Critically ill']],columns = [['Prevista','Prevista'],['Regula/Mild','Severe/Critically ill']])"
   ]
  },
  {
   "cell_type": "code",
   "execution_count": null,
   "id": "f63bfd14",
   "metadata": {},
   "outputs": [],
   "source": [
    "fig_2 = plt.figure()\n",
    "ax =sns.heatmap(mat,annot=True)\n",
    "ax.set_xlabel('Previsto')\n",
    "ax.set_ylabel('Real')"
   ]
  },
  {
   "cell_type": "markdown",
   "id": "8c6f936e",
   "metadata": {},
   "source": [
    " ## CNN-3D"
   ]
  },
  {
   "cell_type": "code",
   "execution_count": 23,
   "id": "9db638e1",
   "metadata": {},
   "outputs": [
    {
     "name": "stdout",
     "output_type": "stream",
     "text": [
      "Model: \"sequential\"\n",
      "_________________________________________________________________\n",
      "Layer (type)                 Output Shape              Param #   \n",
      "=================================================================\n",
      "conv3d (Conv3D)              (None, 150, 64, 64, 16)   448       \n",
      "_________________________________________________________________\n",
      "max_pooling3d (MaxPooling3D) (None, 50, 21, 21, 16)    0         \n",
      "_________________________________________________________________\n",
      "flatten (Flatten)            (None, 352800)            0         \n",
      "_________________________________________________________________\n",
      "dense (Dense)                (None, 50)                17640050  \n",
      "_________________________________________________________________\n",
      "dense_1 (Dense)              (None, 25)                1275      \n",
      "_________________________________________________________________\n",
      "dense_2 (Dense)              (None, 2)                 52        \n",
      "=================================================================\n",
      "Total params: 17,641,825\n",
      "Trainable params: 17,641,825\n",
      "Non-trainable params: 0\n",
      "_________________________________________________________________\n"
     ]
    }
   ],
   "source": [
    "model_cnn = tf.keras.Sequential()\n",
    "model_cnn.add(tf.keras.layers.Conv3D(filters = 16, kernel_size = [3,3,3],padding = 'same',\n",
    "                                     data_format = \"channels_last\", input_shape = (150,64,64,1)))\n",
    "model_cnn.add(tf.keras.layers.MaxPooling3D(pool_size = (3,3,3),padding = 'valid', data_format = 'channels_last'))\n",
    "model_cnn.add(tf.keras.layers.Flatten())\n",
    "model_cnn.add(tf.keras.layers.Dense(50,activation ='relu'))\n",
    "model_cnn.add(tf.keras.layers.Dense(25,activation ='relu'))\n",
    "model_cnn.add(tf.keras.layers.Dense(2,activation ='softmax'))\n",
    "\n",
    "model_cnn.summary()\n",
    "            "
   ]
  },
  {
   "cell_type": "code",
   "execution_count": 25,
   "id": "80ca851c",
   "metadata": {},
   "outputs": [],
   "source": [
    "model_cnn.compile(loss=tf.keras.losses.CategoricalCrossentropy(),\n",
    "              optimizer = tf.keras.optimizers.Adam(),\n",
    "              metrics = ['accuracy'])"
   ]
  },
  {
   "cell_type": "code",
   "execution_count": 26,
   "id": "60507b86",
   "metadata": {},
   "outputs": [
    {
     "name": "stdout",
     "output_type": "stream",
     "text": [
      "Epoch 1/10\n",
      "17/17 [==============================] - 194s 11s/step - loss: 1094.9486 - accuracy: 0.5577 - val_loss: 142.5757 - val_accuracy: 0.5517\n",
      "Epoch 2/10\n",
      "17/17 [==============================] - 193s 11s/step - loss: 67.9219 - accuracy: 0.7000 - val_loss: 50.2652 - val_accuracy: 0.5172\n",
      "Epoch 3/10\n",
      "17/17 [==============================] - 194s 11s/step - loss: 21.3794 - accuracy: 0.7692 - val_loss: 34.3635 - val_accuracy: 0.5517\n",
      "Epoch 4/10\n",
      "17/17 [==============================] - 193s 11s/step - loss: 13.8944 - accuracy: 0.8038 - val_loss: 44.8693 - val_accuracy: 0.7241\n",
      "Epoch 5/10\n",
      "17/17 [==============================] - 193s 11s/step - loss: 13.5619 - accuracy: 0.8462 - val_loss: 39.6734 - val_accuracy: 0.6897\n",
      "Epoch 6/10\n",
      "17/17 [==============================] - 193s 11s/step - loss: 3.1888 - accuracy: 0.9231 - val_loss: 40.2440 - val_accuracy: 0.6897\n",
      "Epoch 7/10\n",
      "17/17 [==============================] - 193s 11s/step - loss: 3.3408 - accuracy: 0.9231 - val_loss: 39.7973 - val_accuracy: 0.6897\n",
      "Epoch 8/10\n",
      "17/17 [==============================] - 193s 11s/step - loss: 3.6256 - accuracy: 0.9154 - val_loss: 28.2118 - val_accuracy: 0.6897\n",
      "Epoch 9/10\n",
      "17/17 [==============================] - 193s 11s/step - loss: 11.9892 - accuracy: 0.8462 - val_loss: 62.5851 - val_accuracy: 0.6207\n",
      "Epoch 10/10\n",
      "17/17 [==============================] - 193s 11s/step - loss: 8.5502 - accuracy: 0.9154 - val_loss: 46.3521 - val_accuracy: 0.7241\n"
     ]
    }
   ],
   "source": [
    "with tf.device('CPU'):\n",
    "    history_cnn = model_cnn.fit(x=X,y=y,\n",
    "                  validation_split=0.1,\n",
    "                  epochs = 10,\n",
    "                  batch_size = 16)"
   ]
  },
  {
   "cell_type": "code",
   "execution_count": 29,
   "id": "eadde180",
   "metadata": {},
   "outputs": [],
   "source": [
    "with tf.device('CPU'):\n",
    "    resultado_cnn = model_cnn.predict(teste)"
   ]
  },
  {
   "cell_type": "code",
   "execution_count": 30,
   "id": "ec2a910b",
   "metadata": {},
   "outputs": [],
   "source": [
    "resultado_cnn = resultado_cnn.argmax(axis = 1)"
   ]
  },
  {
   "cell_type": "code",
   "execution_count": 32,
   "id": "56f70652",
   "metadata": {},
   "outputs": [
    {
     "data": {
      "text/plain": [
       "array([1, 0, 1, 1, 1, 1, 1, 1, 1, 0, 1, 0, 0, 0, 1, 1, 0, 1, 0, 0, 1, 1,\n",
       "       1, 1, 0, 0, 0, 1, 0, 1, 1, 1, 1, 1, 1, 1, 1, 1, 1, 1, 0, 0, 1, 0,\n",
       "       1, 1, 1, 0, 0, 0, 1, 0, 1, 1, 1, 1, 1, 0, 1, 0, 1, 1, 1, 1, 0, 1,\n",
       "       0, 1, 0, 0, 0, 1, 1])"
      ]
     },
     "execution_count": 32,
     "metadata": {},
     "output_type": "execute_result"
    }
   ],
   "source": [
    "resultado_cnn"
   ]
  },
  {
   "cell_type": "code",
   "execution_count": 39,
   "id": "a3c195b8",
   "metadata": {},
   "outputs": [],
   "source": [
    "try:\n",
    "    if y_teste.shape[1] != None:\n",
    "        y_teste  =  y_teste.argmax(axis = 1)\n",
    "except:\n",
    "    pass"
   ]
  },
  {
   "cell_type": "code",
   "execution_count": 40,
   "id": "60a78f40",
   "metadata": {},
   "outputs": [
    {
     "data": {
      "text/plain": [
       "array([0, 0, 1, 1, 1, 1, 1, 1, 0, 0, 0, 0, 0, 0, 1, 0, 0, 1, 1, 1, 0, 1,\n",
       "       1, 0, 0, 1, 1, 1, 1, 1, 0, 1, 1, 1, 1, 0, 1, 1, 0, 1, 0, 0, 1, 0,\n",
       "       1, 1, 1, 0, 0, 1, 1, 0, 0, 0, 0, 0, 0, 0, 1, 0, 0, 0, 0, 0, 1, 1,\n",
       "       1, 1, 1, 0, 1, 0, 0])"
      ]
     },
     "execution_count": 40,
     "metadata": {},
     "output_type": "execute_result"
    }
   ],
   "source": [
    "y_teste"
   ]
  },
  {
   "cell_type": "code",
   "execution_count": 42,
   "id": "74dc8458",
   "metadata": {},
   "outputs": [],
   "source": [
    "cnn_acc_score = accuracy_score(y_teste,resultado_cnn) * 100\n",
    "cnn_pre_score = precision_score(y_teste,resultado_cnn) * 100\n",
    "cnn_re_score = recall_score(y_teste,resultado_cnn) * 100\n",
    "cnn_f_score = f1_score(y_teste,resultado_cnn) * 100\n",
    "cnn_auc_score = roc_auc_score(y_teste,resultado_cnn) * 100"
   ]
  },
  {
   "cell_type": "code",
   "execution_count": 43,
   "id": "fbb856f9",
   "metadata": {},
   "outputs": [
    {
     "name": "stdout",
     "output_type": "stream",
     "text": [
      "acuracia:58.90%\n",
      "precisao:57.45%\n",
      "revocaçao:72.97%\n",
      "f1:64.29%\n",
      "AUC:58.71%\n"
     ]
    }
   ],
   "source": [
    "print(\"acuracia:{:.2f}%\".format(cnn_acc_score))\n",
    "print(\"precisao:{:.2f}%\".format(cnn_pre_score))\n",
    "print(\"revocaçao:{:.2f}%\".format(cnn_re_score))\n",
    "print(\"f1:{:.2f}%\".format(cnn_f_score))\n",
    "print(\"AUC:{:.2f}%\".format(cnn_auc_score))"
   ]
  },
  {
   "cell_type": "markdown",
   "id": "c1c4c184",
   "metadata": {},
   "source": [
    "### Gerando os graficos"
   ]
  },
  {
   "cell_type": "code",
   "execution_count": 44,
   "id": "6f0377d8",
   "metadata": {},
   "outputs": [],
   "source": [
    "epoca = history_cnn.epoch\n",
    "train_loss = history_cnn.history['loss']\n",
    "train_acc = history_cnn.history['accuracy']\n",
    "val_loss = history_cnn.history['val_loss']\n",
    "val_acc = history_cnn.history['val_accuracy']"
   ]
  },
  {
   "cell_type": "code",
   "execution_count": 47,
   "id": "4203ed80",
   "metadata": {},
   "outputs": [
    {
     "data": {
      "text/plain": [
       "<matplotlib.legend.Legend at 0x7f98bdc8bb50>"
      ]
     },
     "execution_count": 47,
     "metadata": {},
     "output_type": "execute_result"
    },
    {
     "data": {
      "image/png": "[encoded data removed]",
      "text/plain": [
       "<Figure size 1036.8x518.4 with 2 Axes>"
      ]
     },
     "metadata": {
      "needs_background": "light"
     },
     "output_type": "display_data"
    }
   ],
   "source": [
    "fig = plt.figure(figsize=(14.4,7.2))\n",
    "\n",
    "#grafico da funçao de perda\n",
    "ax = fig.add_subplot(1,2,1)\n",
    "ax.plot(epoca,train_loss,'black',label=\"train_loss\")\n",
    "ax.plot(epoca,val_loss,'red',label='val_loss')\n",
    "ax.set_title('Função de Perda')\n",
    "ax.set_xlabel(\"Epocas\")\n",
    "ax.legend(loc=\"upper right\")\n",
    "\n",
    "#grafico da acuracia\n",
    "ax2 = fig.add_subplot(1,2,2)\n",
    "ax2.plot(epoca,train_acc,'black',label=\"Train_acc\")\n",
    "ax2.plot(epoca,val_acc,'red',label = \"Val_acc\")\n",
    "ax2.set_title(\"Acuracia\")\n",
    "ax2.set_xlabel(\"Epocas\")\n",
    "ax2.legend(loc='lower right')"
   ]
  },
  {
   "cell_type": "markdown",
   "id": "0cdeed1f",
   "metadata": {},
   "source": [
    "### Matriz de confusao"
   ]
  },
  {
   "cell_type": "code",
   "execution_count": 56,
   "id": "947b022d",
   "metadata": {},
   "outputs": [],
   "source": [
    "matriz_confusao_cnn = confusion_matrix(y_teste, resultado_cnn)\n",
    "mat_cnn =  pd.DataFrame(matriz_confusao_cnn,index=['Regula/Mild','Severe/Critically ill'],\n",
    "                    columns = ['Regula/Mild','Severe/Critically ill'])"
   ]
  },
  {
   "cell_type": "code",
   "execution_count": 60,
   "id": "62e0b3b5",
   "metadata": {
    "scrolled": true
   },
   "outputs": [
    {
     "data": {
      "text/plain": [
       "Text(32.99999999999999, 0.5, 'Real')"
      ]
     },
     "execution_count": 60,
     "metadata": {},
     "output_type": "execute_result"
    },
    {
     "data": {
      "image/png": "[encoded data removed]",
      "text/plain": [
       "<Figure size 432x288 with 2 Axes>"
      ]
     },
     "metadata": {
      "needs_background": "light"
     },
     "output_type": "display_data"
    }
   ],
   "source": [
    "fig_2 = plt.figure()\n",
    "ax =sns.heatmap(mat_cnn,annot=True)\n",
    "ax.set_xlabel('Previsto')\n",
    "ax.set_ylabel('Real')"
   ]
  },
  {
   "cell_type": "code",
   "execution_count": null,
   "id": "654109bb",
   "metadata": {},
   "outputs": [],
   "source": []
  }
 ],
 "metadata": {
  "kernelspec": {
   "display_name": "Python 3",
   "language": "python",
   "name": "python3"
  },
  "language_info": {
   "codemirror_mode": {
    "name": "ipython",
    "version": 3
   },
   "file_extension": ".py",
   "mimetype": "text/x-python",
   "name": "python",
   "nbconvert_exporter": "python",
   "pygments_lexer": "ipython3",
   "version": "3.8.10"
  }
 },
 "nbformat": 4,
 "nbformat_minor": 5
}
