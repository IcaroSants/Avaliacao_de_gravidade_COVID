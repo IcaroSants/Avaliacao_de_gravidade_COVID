{
 "cells": [
  {
   "cell_type": "code",
   "execution_count": 1,
   "id": "80c2c92f",
   "metadata": {},
   "outputs": [],
   "source": [
    "import pandas as pd\n",
    "import seaborn as sns\n",
    "import matplotlib.pyplot as plt"
   ]
  },
  {
   "cell_type": "code",
   "execution_count": 2,
   "id": "6ce50b11",
   "metadata": {},
   "outputs": [],
   "source": [
    "df = pd.read_csv('metadados_Dataset')"
   ]
  },
  {
   "cell_type": "code",
   "execution_count": 3,
   "id": "e1ab8b25",
   "metadata": {
    "scrolled": true
   },
   "outputs": [
    {
     "data": {
      "text/html": [
       "<div>\n",
       "<style scoped>\n",
       "    .dataframe tbody tr th:only-of-type {\n",
       "        vertical-align: middle;\n",
       "    }\n",
       "\n",
       "    .dataframe tbody tr th {\n",
       "        vertical-align: top;\n",
       "    }\n",
       "\n",
       "    .dataframe thead th {\n",
       "        text-align: right;\n",
       "    }\n",
       "</style>\n",
       "<table border=\"1\" class=\"dataframe\">\n",
       "  <thead>\n",
       "    <tr style=\"text-align: right;\">\n",
       "      <th></th>\n",
       "      <th>Unnamed: 0</th>\n",
       "      <th>Hospital</th>\n",
       "      <th>Patient</th>\n",
       "      <th>Age</th>\n",
       "      <th>Gender</th>\n",
       "      <th>SARS-CoV-2 nucleic acids</th>\n",
       "      <th>CT</th>\n",
       "      <th>Morbidity</th>\n",
       "      <th>Mortality</th>\n",
       "      <th>Caminho</th>\n",
       "    </tr>\n",
       "  </thead>\n",
       "  <tbody>\n",
       "    <tr>\n",
       "      <th>0</th>\n",
       "      <td>0</td>\n",
       "      <td>HUST-Union Hospital</td>\n",
       "      <td>Patient 1</td>\n",
       "      <td>81</td>\n",
       "      <td>Male</td>\n",
       "      <td>Positive</td>\n",
       "      <td>Positive</td>\n",
       "      <td>Regular</td>\n",
       "      <td>Cured</td>\n",
       "      <td>/home/icaro/Faculdade/Avaliacao_de_gravidade_C...</td>\n",
       "    </tr>\n",
       "    <tr>\n",
       "      <th>1</th>\n",
       "      <td>1</td>\n",
       "      <td>HUST-Union Hospital</td>\n",
       "      <td>Patient 2</td>\n",
       "      <td>50</td>\n",
       "      <td>Male</td>\n",
       "      <td>Positive</td>\n",
       "      <td>Positive</td>\n",
       "      <td>Regular</td>\n",
       "      <td>Cured</td>\n",
       "      <td>/home/icaro/Faculdade/Avaliacao_de_gravidade_C...</td>\n",
       "    </tr>\n",
       "    <tr>\n",
       "      <th>2</th>\n",
       "      <td>2</td>\n",
       "      <td>HUST-Union Hospital</td>\n",
       "      <td>Patient 3</td>\n",
       "      <td>65</td>\n",
       "      <td>Female</td>\n",
       "      <td>Positive</td>\n",
       "      <td>Positive</td>\n",
       "      <td>Regular</td>\n",
       "      <td>Cured</td>\n",
       "      <td>/home/icaro/Faculdade/Avaliacao_de_gravidade_C...</td>\n",
       "    </tr>\n",
       "    <tr>\n",
       "      <th>3</th>\n",
       "      <td>3</td>\n",
       "      <td>HUST-Union Hospital</td>\n",
       "      <td>Patient 4</td>\n",
       "      <td>73</td>\n",
       "      <td>Male</td>\n",
       "      <td>Positive</td>\n",
       "      <td>Positive</td>\n",
       "      <td>Severe</td>\n",
       "      <td>Cured</td>\n",
       "      <td>/home/icaro/Faculdade/Avaliacao_de_gravidade_C...</td>\n",
       "    </tr>\n",
       "    <tr>\n",
       "      <th>4</th>\n",
       "      <td>4</td>\n",
       "      <td>HUST-Union Hospital</td>\n",
       "      <td>Patient 5</td>\n",
       "      <td>64</td>\n",
       "      <td>Female</td>\n",
       "      <td>Positive</td>\n",
       "      <td>Positive</td>\n",
       "      <td>Severe</td>\n",
       "      <td>Cured</td>\n",
       "      <td>/home/icaro/Faculdade/Avaliacao_de_gravidade_C...</td>\n",
       "    </tr>\n",
       "    <tr>\n",
       "      <th>...</th>\n",
       "      <td>...</td>\n",
       "      <td>...</td>\n",
       "      <td>...</td>\n",
       "      <td>...</td>\n",
       "      <td>...</td>\n",
       "      <td>...</td>\n",
       "      <td>...</td>\n",
       "      <td>...</td>\n",
       "      <td>...</td>\n",
       "      <td>...</td>\n",
       "    </tr>\n",
       "    <tr>\n",
       "      <th>706</th>\n",
       "      <td>1187</td>\n",
       "      <td>HUST-Liyuan Hospital</td>\n",
       "      <td>Patient 817</td>\n",
       "      <td>59</td>\n",
       "      <td>Male</td>\n",
       "      <td>Positive</td>\n",
       "      <td>Positive</td>\n",
       "      <td>Regular</td>\n",
       "      <td>Unknown</td>\n",
       "      <td>/home/icaro/Faculdade/Avaliacao_de_gravidade_C...</td>\n",
       "    </tr>\n",
       "    <tr>\n",
       "      <th>707</th>\n",
       "      <td>1188</td>\n",
       "      <td>HUST-Liyuan Hospital</td>\n",
       "      <td>Patient 818</td>\n",
       "      <td>51</td>\n",
       "      <td>Male</td>\n",
       "      <td>Positive</td>\n",
       "      <td>Positive</td>\n",
       "      <td>Regular</td>\n",
       "      <td>Unknown</td>\n",
       "      <td>/home/icaro/Faculdade/Avaliacao_de_gravidade_C...</td>\n",
       "    </tr>\n",
       "    <tr>\n",
       "      <th>708</th>\n",
       "      <td>1190</td>\n",
       "      <td>HUST-Liyuan Hospital</td>\n",
       "      <td>Patient 820</td>\n",
       "      <td>64</td>\n",
       "      <td>Female</td>\n",
       "      <td>Positive</td>\n",
       "      <td>Positive</td>\n",
       "      <td>Regular</td>\n",
       "      <td>Cured</td>\n",
       "      <td>/home/icaro/Faculdade/Avaliacao_de_gravidade_C...</td>\n",
       "    </tr>\n",
       "    <tr>\n",
       "      <th>709</th>\n",
       "      <td>1193</td>\n",
       "      <td>HUST-Liyuan Hospital</td>\n",
       "      <td>Patient 823</td>\n",
       "      <td>31</td>\n",
       "      <td>Female</td>\n",
       "      <td>Positive</td>\n",
       "      <td>Negative</td>\n",
       "      <td>Mild</td>\n",
       "      <td>Cured</td>\n",
       "      <td>/home/icaro/Faculdade/Avaliacao_de_gravidade_C...</td>\n",
       "    </tr>\n",
       "    <tr>\n",
       "      <th>710</th>\n",
       "      <td>1194</td>\n",
       "      <td>HUST-Liyuan Hospital</td>\n",
       "      <td>Patient 824</td>\n",
       "      <td>52</td>\n",
       "      <td>Female</td>\n",
       "      <td>Positive</td>\n",
       "      <td>Positive</td>\n",
       "      <td>Regular</td>\n",
       "      <td>Cured</td>\n",
       "      <td>/home/icaro/Faculdade/Avaliacao_de_gravidade_C...</td>\n",
       "    </tr>\n",
       "  </tbody>\n",
       "</table>\n",
       "<p>711 rows × 10 columns</p>\n",
       "</div>"
      ],
      "text/plain": [
       "     Unnamed: 0              Hospital      Patient  Age  Gender  \\\n",
       "0             0   HUST-Union Hospital    Patient 1   81    Male   \n",
       "1             1   HUST-Union Hospital    Patient 2   50    Male   \n",
       "2             2   HUST-Union Hospital    Patient 3   65  Female   \n",
       "3             3   HUST-Union Hospital    Patient 4   73    Male   \n",
       "4             4   HUST-Union Hospital    Patient 5   64  Female   \n",
       "..          ...                   ...          ...  ...     ...   \n",
       "706        1187  HUST-Liyuan Hospital  Patient 817   59    Male   \n",
       "707        1188  HUST-Liyuan Hospital  Patient 818   51    Male   \n",
       "708        1190  HUST-Liyuan Hospital  Patient 820   64  Female   \n",
       "709        1193  HUST-Liyuan Hospital  Patient 823   31  Female   \n",
       "710        1194  HUST-Liyuan Hospital  Patient 824   52  Female   \n",
       "\n",
       "    SARS-CoV-2 nucleic acids        CT Morbidity Mortality  \\\n",
       "0                   Positive  Positive   Regular     Cured   \n",
       "1                   Positive  Positive   Regular     Cured   \n",
       "2                   Positive  Positive   Regular     Cured   \n",
       "3                   Positive  Positive    Severe     Cured   \n",
       "4                   Positive  Positive    Severe     Cured   \n",
       "..                       ...       ...       ...       ...   \n",
       "706                 Positive  Positive   Regular   Unknown   \n",
       "707                 Positive  Positive   Regular   Unknown   \n",
       "708                 Positive  Positive   Regular     Cured   \n",
       "709                 Positive  Negative      Mild     Cured   \n",
       "710                 Positive  Positive   Regular     Cured   \n",
       "\n",
       "                                               Caminho  \n",
       "0    /home/icaro/Faculdade/Avaliacao_de_gravidade_C...  \n",
       "1    /home/icaro/Faculdade/Avaliacao_de_gravidade_C...  \n",
       "2    /home/icaro/Faculdade/Avaliacao_de_gravidade_C...  \n",
       "3    /home/icaro/Faculdade/Avaliacao_de_gravidade_C...  \n",
       "4    /home/icaro/Faculdade/Avaliacao_de_gravidade_C...  \n",
       "..                                                 ...  \n",
       "706  /home/icaro/Faculdade/Avaliacao_de_gravidade_C...  \n",
       "707  /home/icaro/Faculdade/Avaliacao_de_gravidade_C...  \n",
       "708  /home/icaro/Faculdade/Avaliacao_de_gravidade_C...  \n",
       "709  /home/icaro/Faculdade/Avaliacao_de_gravidade_C...  \n",
       "710  /home/icaro/Faculdade/Avaliacao_de_gravidade_C...  \n",
       "\n",
       "[711 rows x 10 columns]"
      ]
     },
     "execution_count": 3,
     "metadata": {},
     "output_type": "execute_result"
    }
   ],
   "source": [
    "df"
   ]
  },
  {
   "cell_type": "markdown",
   "id": "5e4c7b07",
   "metadata": {},
   "source": [
    "# Quantos casos confirmados de covid temos neste dataset?"
   ]
  },
  {
   "cell_type": "code",
   "execution_count": 4,
   "id": "9fb11e86",
   "metadata": {},
   "outputs": [],
   "source": [
    "data = df['SARS-CoV-2 nucleic acids'].value_counts()"
   ]
  },
  {
   "cell_type": "code",
   "execution_count": 5,
   "id": "d0a14cb7",
   "metadata": {},
   "outputs": [],
   "source": [
    "eixo_x = data.index.values.tolist()"
   ]
  },
  {
   "cell_type": "code",
   "execution_count": 6,
   "id": "afcb35b6",
   "metadata": {},
   "outputs": [
    {
     "data": {
      "text/plain": [
       "Text(0.5, 1.0, 'Quantos casos confirmados de covid temos neste dataset?')"
      ]
     },
     "execution_count": 6,
     "metadata": {},
     "output_type": "execute_result"
    },
    {
     "data": {
      "image/png": "[encoded data removed]",
      "text/plain": [
       "<Figure size 518.4x518.4 with 1 Axes>"
      ]
     },
     "metadata": {},
     "output_type": "display_data"
    }
   ],
   "source": [
    "sns.set(font_scale=2)\n",
    "sns.set_style('dark')\n",
    "fig = plt.figure(figsize=(7.2,7.2))\n",
    "ax = fig.add_subplot()\n",
    "ax.bar(eixo_x,data.values, width=0.5)\n",
    "ax.set_ylim([0,730])\n",
    "ax.text(-0.1,550, '521',fontsize=20)\n",
    "ax.text(0.9,210,'190',fontsize=20)\n",
    "ax.set_title('Quantos casos confirmados de covid temos neste dataset?')\n",
    "\n",
    "\n"
   ]
  },
  {
   "cell_type": "markdown",
   "id": "61da9e58",
   "metadata": {},
   "source": [
    "# Porcentagem de Homens e Mulheres"
   ]
  },
  {
   "cell_type": "code",
   "execution_count": 7,
   "id": "e0b63c3f",
   "metadata": {},
   "outputs": [],
   "source": [
    "df_genero = df['Gender'].value_counts().apply(lambda x:x/df.shape[0])"
   ]
  },
  {
   "cell_type": "code",
   "execution_count": 8,
   "id": "451afa00",
   "metadata": {},
   "outputs": [
    {
     "data": {
      "text/plain": [
       "Female    0.520394\n",
       "Male      0.479606\n",
       "Name: Gender, dtype: float64"
      ]
     },
     "execution_count": 8,
     "metadata": {},
     "output_type": "execute_result"
    }
   ],
   "source": [
    "df_genero"
   ]
  },
  {
   "cell_type": "code",
   "execution_count": 9,
   "id": "f0d425f0",
   "metadata": {},
   "outputs": [],
   "source": [
    "eixo_x = df_genero.index.values.tolist()"
   ]
  },
  {
   "cell_type": "code",
   "execution_count": 10,
   "id": "9dd586d5",
   "metadata": {},
   "outputs": [
    {
     "name": "stderr",
     "output_type": "stream",
     "text": [
      "<ipython-input-10-f7a22e865333>:8: UserWarning: FixedFormatter should only be used together with FixedLocator\n",
      "  ax.set_xticklabels(eixo_x,fontsize='small')\n"
     ]
    },
    {
     "data": {
      "text/plain": [
       "[Text(0, 0, 'Female'), Text(1, 0, 'Male')]"
      ]
     },
     "execution_count": 10,
     "metadata": {},
     "output_type": "execute_result"
    },
    {
     "data": {
      "image/png": "[encoded data removed]",
      "text/plain": [
       "<Figure size 518.4x518.4 with 1 Axes>"
      ]
     },
     "metadata": {},
     "output_type": "display_data"
    }
   ],
   "source": [
    "fig = plt.figure(figsize=(7.2,7.2))\n",
    "ax = fig.add_subplot()\n",
    "ax.bar(eixo_x,df_genero.values, width=0.25,color = 'green')\n",
    "ax.set_ylim([0,1])\n",
    "ax.text(-0.1,0.550, '0.52',fontsize=20)\n",
    "ax.text(0.9,0.50,'0.48',fontsize=20)\n",
    "ax.set_title('   Porcentagem de Homens e Mulheres')\n",
    "ax.set_xticklabels(eixo_x,fontsize='small')"
   ]
  },
  {
   "cell_type": "markdown",
   "id": "cc2adee8",
   "metadata": {},
   "source": [
    "# Media de Idade"
   ]
  },
  {
   "cell_type": "code",
   "execution_count": 11,
   "id": "3b687338",
   "metadata": {},
   "outputs": [],
   "source": [
    "media_idade = df['Age'].mean()"
   ]
  },
  {
   "cell_type": "code",
   "execution_count": 12,
   "id": "229d5aa1",
   "metadata": {},
   "outputs": [],
   "source": [
    "data = df['Age'].value_counts().values"
   ]
  },
  {
   "cell_type": "code",
   "execution_count": 13,
   "id": "fe20eb3c",
   "metadata": {},
   "outputs": [
    {
     "data": {
      "text/plain": [
       "Text(0.5, 1.0, 'Histograma das Idades')"
      ]
     },
     "execution_count": 13,
     "metadata": {},
     "output_type": "execute_result"
    },
    {
     "data": {
      "image/png": "[encoded data removed]",
      "text/plain": [
       "<Figure size 518.4x518.4 with 1 Axes>"
      ]
     },
     "metadata": {},
     "output_type": "display_data"
    }
   ],
   "source": [
    "fig  = plt.figure(figsize=(7.2,7.2))\n",
    "ax = fig.add_subplot()\n",
    "df['Age'].hist(ax=ax)\n",
    "ax.set_title('Histograma das Idades')\n"
   ]
  },
  {
   "cell_type": "markdown",
   "id": "7a9bcee5",
   "metadata": {},
   "source": [
    "# Mortalidade por grau da covid\n"
   ]
  },
  {
   "cell_type": "code",
   "execution_count": 14,
   "id": "b0ad40f1",
   "metadata": {},
   "outputs": [],
   "source": [
    "df_casos = df[['Morbidity','Mortality']]"
   ]
  },
  {
   "cell_type": "code",
   "execution_count": 15,
   "id": "007774ad",
   "metadata": {},
   "outputs": [
    {
     "name": "stderr",
     "output_type": "stream",
     "text": [
      "/home/icaro/.local/lib/python3.8/site-packages/pandas/core/frame.py:4308: SettingWithCopyWarning: \n",
      "A value is trying to be set on a copy of a slice from a DataFrame\n",
      "\n",
      "See the caveats in the documentation: https://pandas.pydata.org/pandas-docs/stable/user_guide/indexing.html#returning-a-view-versus-a-copy\n",
      "  return super().drop(\n"
     ]
    }
   ],
   "source": [
    "df_casos.drop(df_casos[df_casos['Mortality'] == 'Unknown'].index,inplace=True)"
   ]
  },
  {
   "cell_type": "code",
   "execution_count": 16,
   "id": "af0efb95",
   "metadata": {},
   "outputs": [
    {
     "data": {
      "text/plain": [
       "Regular           317\n",
       "Severe            118\n",
       "Critically ill     11\n",
       "Mild                6\n",
       "Name: Morbidity, dtype: int64"
      ]
     },
     "execution_count": 16,
     "metadata": {},
     "output_type": "execute_result"
    }
   ],
   "source": [
    "df_casos['Morbidity'].value_counts()"
   ]
  },
  {
   "cell_type": "code",
   "execution_count": 17,
   "id": "a1c5c317",
   "metadata": {},
   "outputs": [
    {
     "data": {
      "text/plain": [
       "array(['Regular', 'Severe', 'Mild', 'Critically ill'], dtype=object)"
      ]
     },
     "execution_count": 17,
     "metadata": {},
     "output_type": "execute_result"
    }
   ],
   "source": [
    "df_casos['Morbidity'].unique()"
   ]
  },
  {
   "cell_type": "code",
   "execution_count": 18,
   "id": "82feae7d",
   "metadata": {},
   "outputs": [],
   "source": [
    "df_regular =  df_casos[df_casos['Morbidity'] == 'Regular']"
   ]
  },
  {
   "cell_type": "code",
   "execution_count": 19,
   "id": "655ac173",
   "metadata": {},
   "outputs": [],
   "source": [
    "Porcentagem_regular = df_regular['Mortality'].value_counts().apply(lambda x:(x/df_regular.shape[0])*100)"
   ]
  },
  {
   "cell_type": "code",
   "execution_count": 20,
   "id": "aa8a0b52",
   "metadata": {},
   "outputs": [
    {
     "data": {
      "text/plain": [
       "Cured    100.0\n",
       "Name: Mortality, dtype: float64"
      ]
     },
     "execution_count": 20,
     "metadata": {},
     "output_type": "execute_result"
    }
   ],
   "source": [
    "Porcentagem_regular"
   ]
  },
  {
   "cell_type": "code",
   "execution_count": 21,
   "id": "223fb11d",
   "metadata": {},
   "outputs": [],
   "source": [
    "df_severe =  df_casos[df_casos['Morbidity'] == 'Severe']"
   ]
  },
  {
   "cell_type": "code",
   "execution_count": 22,
   "id": "1647d51d",
   "metadata": {},
   "outputs": [],
   "source": [
    "Porcentagem_severe = df_severe['Mortality'].value_counts().apply(lambda x:(x/df_severe.shape[0])*100)"
   ]
  },
  {
   "cell_type": "code",
   "execution_count": null,
   "id": "7dd27021",
   "metadata": {},
   "outputs": [],
   "source": []
  },
  {
   "cell_type": "code",
   "execution_count": 23,
   "id": "0027c75a",
   "metadata": {},
   "outputs": [],
   "source": [
    "df_mild =  df_casos[df_casos['Morbidity'] == 'Mild']\n",
    "df_critical=  df_casos[df_casos['Morbidity'] == 'Critically ill']\n"
   ]
  },
  {
   "cell_type": "code",
   "execution_count": 24,
   "id": "4c7c6287",
   "metadata": {},
   "outputs": [],
   "source": [
    "Porcentagem_mild = df_mild['Mortality'].value_counts().apply(lambda x:(x/df_mild.shape[0])*100)"
   ]
  },
  {
   "cell_type": "code",
   "execution_count": 25,
   "id": "eff5ec20",
   "metadata": {},
   "outputs": [],
   "source": [
    "Porcentagem_critical = df_critical['Mortality'].value_counts().apply(lambda x:(x/df_critical.shape[0])*100)"
   ]
  },
  {
   "cell_type": "code",
   "execution_count": 26,
   "id": "18a87fdb",
   "metadata": {},
   "outputs": [],
   "source": [
    "Porcentagem_critical.name = 'Critico'\n",
    "Porcentagem_severe.name = 'Severo'\n",
    "Porcentagem_regular.name = 'Regular'\n",
    "Porcentagem_mild.name = 'Suave'\n"
   ]
  },
  {
   "cell_type": "code",
   "execution_count": 27,
   "id": "1fe4e662",
   "metadata": {},
   "outputs": [],
   "source": [
    "df_analise = pd.concat([Porcentagem_critical,Porcentagem_severe,Porcentagem_regular,Porcentagem_mild],\n",
    "                       axis='columns')"
   ]
  },
  {
   "cell_type": "code",
   "execution_count": 28,
   "id": "33800b9d",
   "metadata": {},
   "outputs": [
    {
     "data": {
      "text/html": [
       "<div>\n",
       "<style scoped>\n",
       "    .dataframe tbody tr th:only-of-type {\n",
       "        vertical-align: middle;\n",
       "    }\n",
       "\n",
       "    .dataframe tbody tr th {\n",
       "        vertical-align: top;\n",
       "    }\n",
       "\n",
       "    .dataframe thead th {\n",
       "        text-align: right;\n",
       "    }\n",
       "</style>\n",
       "<table border=\"1\" class=\"dataframe\">\n",
       "  <thead>\n",
       "    <tr style=\"text-align: right;\">\n",
       "      <th></th>\n",
       "      <th>Critico</th>\n",
       "      <th>Severo</th>\n",
       "      <th>Regular</th>\n",
       "      <th>Suave</th>\n",
       "    </tr>\n",
       "  </thead>\n",
       "  <tbody>\n",
       "    <tr>\n",
       "      <th>Deceased</th>\n",
       "      <td>63.636364</td>\n",
       "      <td>2.542373</td>\n",
       "      <td>NaN</td>\n",
       "      <td>NaN</td>\n",
       "    </tr>\n",
       "    <tr>\n",
       "      <th>Cured</th>\n",
       "      <td>36.363636</td>\n",
       "      <td>97.457627</td>\n",
       "      <td>100.0</td>\n",
       "      <td>100.0</td>\n",
       "    </tr>\n",
       "  </tbody>\n",
       "</table>\n",
       "</div>"
      ],
      "text/plain": [
       "            Critico     Severo  Regular  Suave\n",
       "Deceased  63.636364   2.542373      NaN    NaN\n",
       "Cured     36.363636  97.457627    100.0  100.0"
      ]
     },
     "execution_count": 28,
     "metadata": {},
     "output_type": "execute_result"
    }
   ],
   "source": [
    "df_analise"
   ]
  },
  {
   "cell_type": "code",
   "execution_count": 29,
   "id": "4022f68d",
   "metadata": {},
   "outputs": [
    {
     "data": {
      "text/plain": [
       "['Deceased', 'Cured']"
      ]
     },
     "execution_count": 29,
     "metadata": {},
     "output_type": "execute_result"
    }
   ],
   "source": [
    "Porcentagem_critical.index.to_list()"
   ]
  },
  {
   "cell_type": "code",
   "execution_count": 30,
   "id": "ae2d2565",
   "metadata": {},
   "outputs": [
    {
     "data": {
      "text/plain": [
       "[63.63636363636363, 36.36363636363637]"
      ]
     },
     "execution_count": 30,
     "metadata": {},
     "output_type": "execute_result"
    }
   ],
   "source": [
    "Porcentagem_critical.values.tolist()"
   ]
  },
  {
   "cell_type": "code",
   "execution_count": 31,
   "id": "22046dcd",
   "metadata": {},
   "outputs": [
    {
     "data": {
      "text/plain": [
       "(0.0, 100.0)"
      ]
     },
     "execution_count": 31,
     "metadata": {},
     "output_type": "execute_result"
    },
    {
     "data": {
      "image/png": "[encoded data removed]",
      "text/plain": [
       "<Figure size 619.2x849.6 with 4 Axes>"
      ]
     },
     "metadata": {},
     "output_type": "display_data"
    }
   ],
   "source": [
    "fig =plt.figure(figsize=(8.6,11.8))\n",
    "ax = fig.add_subplot(2,2,1)\n",
    "ax.bar(Porcentagem_critical.index.to_list(),Porcentagem_critical.values.tolist(),width=0.10)\n",
    "ax.set_title('Critico')\n",
    "ax.set_ylim([0,100])\n",
    "\n",
    "\n",
    "ax2 = fig.add_subplot(2,2,2)\n",
    "ax2.bar(Porcentagem_severe.index.to_list(),Porcentagem_severe.values,width=0.25,label='Severo')\n",
    "ax2.set_title('Severo')\n",
    "ax2.set_ylim([0,100])\n",
    "\n",
    "\n",
    "ax3 = fig.add_subplot(2,2,3)\n",
    "ax3.bar(Porcentagem_regular.index.to_list(),Porcentagem_regular.values,width=0.1,label='Regular')\n",
    "ax3.set_title('Regular')\n",
    "ax3.set_ylim([0,100])\n",
    "\n",
    "ax4 = fig.add_subplot(2,2,4)\n",
    "ax4.bar(Porcentagem_regular.index.to_list(),Porcentagem_regular.values,width=0.1,label='Suave')\n",
    "ax4.set_title('Suave')\n",
    "ax4.set_ylim([0,100])\n",
    "\n"
   ]
  },
  {
   "cell_type": "code",
   "execution_count": 34,
   "id": "fe659980",
   "metadata": {},
   "outputs": [],
   "source": [
    "df.replace({'Regular':'Regula/Mild', 'Severe':'Severe/Critically ill', 'Mild':'Regula/Mild', 'Critically ill':'Severe/Critically ill'},\n",
    "           inplace=True)"
   ]
  },
  {
   "cell_type": "code",
   "execution_count": 36,
   "id": "f6a77d30",
   "metadata": {},
   "outputs": [],
   "source": [
    "df.to_csv('metadados_reorganizado')"
   ]
  },
  {
   "cell_type": "code",
   "execution_count": null,
   "id": "ed423f15",
   "metadata": {},
   "outputs": [],
   "source": []
  }
 ],
 "metadata": {
  "kernelspec": {
   "display_name": "Python 3",
   "language": "python",
   "name": "python3"
  },
  "language_info": {
   "codemirror_mode": {
    "name": "ipython",
    "version": 3
   },
   "file_extension": ".py",
   "mimetype": "text/x-python",
   "name": "python",
   "nbconvert_exporter": "python",
   "pygments_lexer": "ipython3",
   "version": "3.8.10"
  }
 },
 "nbformat": 4,
 "nbformat_minor": 5
}
